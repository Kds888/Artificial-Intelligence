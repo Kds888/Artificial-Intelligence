{
 "cells": [
  {
   "cell_type": "code",
   "execution_count": 1,
   "id": "268765de",
   "metadata": {},
   "outputs": [],
   "source": [
    "# Sequential model \n",
    "# We are using the Dense layer which is just a simple layer of neurorsn where each neuron is \n",
    "# connevcted with anither neuron\n",
    "# For binary classification problems, we use the loss as binary_crossentropy[- (y * log(p) + (1-y) * log(1-p))] and for \n",
    "# multiclass classification we use categorical_crossentropy loss function[- sum(y * log(p))] and for multi-label\n",
    "# classification problem we use sigmoid cross entropy[- sum(y * log(sigmoid(logits)) + (1 - y) * log(1 - sigmoid(logits)))].\n",
    "# for regression based problems we can use MSE[Mean squared error]\n",
    "# Batch size is basically a set of training examples that are processed together \n",
    "# whereas epoch is how many times we need the model to pass through the training set to learn and adjust the parameters.\n",
    "# we can manage the epochs as well that the model will stopon its own when it has achived a required loss\n",
    "# model.history.history will gives us the loss curve.\n",
    "# model_loss=pd.DataFrame(model.history.history)\n",
    "# model_loss.plot()\n",
    "# we may take the neuron based on the size of the input features for the first coulmn\n",
    "# if we observe that the validation loss is also going down with the model loss we can continue training \n",
    "# the data without the fear of overfitting.\n",
    "# If the validation loss is going down with the model loss, it is a good sign that the model is generalizing well and is not overfitting to the training data. However, it does not guarantee that the model \n",
    "# will not overfit in the future if training is continued for too long.\n",
    "# and if we observe that the validation loss is showing spikes in the data we can just stop the model training at that point so as to avoid \n",
    "# overfitting of the model.\n",
    "# model.fit(x_train,Y_train,validation_Data=(x_validate,y_validate)), this will generate the validation loss for us to work on.\n",
    "# Early stopping of the training, based on the validation data.\n",
    "# from.temsorflow.keras.callbacks import EarlyStopping, we can use the early stopping with a lot of parameters like patience etc.\n",
    "# for preventing the model to overfit the data. \n",
    "# early_stop = EarlyStopping(monitor ='val_loss',mode='min',verbose=1,patience=25) to wait for atleast 25 epocs before stopping to avoid the noise in our data.\n",
    "# we pass this early stop in callbacks parametres of the model.fit as\n",
    "# model.fit(x_train,Y_train,validation_Data=(x_validate,y_validate),callbacks=[early_stop]),\n",
    "# use of exlpained_variance_score tells us how much variance is bieng explained by our model,\n",
    "# dropout layers, will drop a user defined percentage of neuron uints in the previous layer of every batch , this id one to avoid overfitting\n",
    "# from tensorflow.keras.layers import Dropout, and we define the dropout percentage in order to drop the data out.\n",
    "# model.add(Dropout(0.5))\n",
    "# if our training loss is keeping on getting down while our validation loss increases we see an overfitting  "
   ]
  },
  {
   "cell_type": "code",
   "execution_count": 2,
   "id": "86e49de3",
   "metadata": {},
   "outputs": [],
   "source": [
    "import pandas as pd \n",
    "import numpy as np\n",
    "import seaborn as sns\n",
    "import matplotlib.pyplot as plt"
   ]
  },
  {
   "cell_type": "code",
   "execution_count": 3,
   "id": "df0bc860",
   "metadata": {},
   "outputs": [],
   "source": [
    "from tensorflow.keras.models import Sequential\n",
    "from tensorflow.keras.layers import Dense,Dropout"
   ]
  },
  {
   "cell_type": "code",
   "execution_count": 4,
   "id": "21cfaf80",
   "metadata": {},
   "outputs": [
    {
     "name": "stderr",
     "output_type": "stream",
     "text": [
      "C:\\Users\\100850993\\AppData\\Local\\Temp\\ipykernel_2828\\2567533633.py:1: DtypeWarning: Columns (0,19,49,59,118,129,130,131,134,135,136,139,145,146,147) have mixed types. Specify dtype option on import or set low_memory=False.\n",
      "  data = pd.read_csv('accepted_2007_to_2018Q4.csv')\n"
     ]
    }
   ],
   "source": [
    "data = pd.read_csv('accepted_2007_to_2018Q4.csv')"
   ]
  },
  {
   "cell_type": "code",
   "execution_count": 5,
   "id": "85735c3d",
   "metadata": {},
   "outputs": [],
   "source": [
    "# we will be only using some of teh important columns that we have identified in the Kaggle.\n",
    "data=data[['loan_amnt','term','int_rate','installment','grade','sub_grade','emp_title','emp_length','home_ownership','annual_inc','verification_status','issue_d','loan_status','purpose','title','zip_code','addr_state','dti','earliest_cr_line','open_acc','pub_rec','revol_bal','revol_util','total_acc','initial_list_status','application_type','mort_acc','pub_rec_bankruptcies']]"
   ]
  },
  {
   "cell_type": "code",
   "execution_count": 6,
   "id": "94aae65f",
   "metadata": {},
   "outputs": [
    {
     "data": {
      "text/html": [
       "<div>\n",
       "<style scoped>\n",
       "    .dataframe tbody tr th:only-of-type {\n",
       "        vertical-align: middle;\n",
       "    }\n",
       "\n",
       "    .dataframe tbody tr th {\n",
       "        vertical-align: top;\n",
       "    }\n",
       "\n",
       "    .dataframe thead th {\n",
       "        text-align: right;\n",
       "    }\n",
       "</style>\n",
       "<table border=\"1\" class=\"dataframe\">\n",
       "  <thead>\n",
       "    <tr style=\"text-align: right;\">\n",
       "      <th></th>\n",
       "      <th>loan_amnt</th>\n",
       "      <th>term</th>\n",
       "      <th>int_rate</th>\n",
       "      <th>installment</th>\n",
       "      <th>grade</th>\n",
       "      <th>sub_grade</th>\n",
       "      <th>emp_title</th>\n",
       "      <th>emp_length</th>\n",
       "      <th>home_ownership</th>\n",
       "      <th>annual_inc</th>\n",
       "      <th>...</th>\n",
       "      <th>earliest_cr_line</th>\n",
       "      <th>open_acc</th>\n",
       "      <th>pub_rec</th>\n",
       "      <th>revol_bal</th>\n",
       "      <th>revol_util</th>\n",
       "      <th>total_acc</th>\n",
       "      <th>initial_list_status</th>\n",
       "      <th>application_type</th>\n",
       "      <th>mort_acc</th>\n",
       "      <th>pub_rec_bankruptcies</th>\n",
       "    </tr>\n",
       "  </thead>\n",
       "  <tbody>\n",
       "    <tr>\n",
       "      <th>0</th>\n",
       "      <td>3600.0</td>\n",
       "      <td>36 months</td>\n",
       "      <td>13.99</td>\n",
       "      <td>123.03</td>\n",
       "      <td>C</td>\n",
       "      <td>C4</td>\n",
       "      <td>leadman</td>\n",
       "      <td>10+ years</td>\n",
       "      <td>MORTGAGE</td>\n",
       "      <td>55000.0</td>\n",
       "      <td>...</td>\n",
       "      <td>Aug-2003</td>\n",
       "      <td>7.0</td>\n",
       "      <td>0.0</td>\n",
       "      <td>2765.0</td>\n",
       "      <td>29.7</td>\n",
       "      <td>13.0</td>\n",
       "      <td>w</td>\n",
       "      <td>Individual</td>\n",
       "      <td>1.0</td>\n",
       "      <td>0.0</td>\n",
       "    </tr>\n",
       "    <tr>\n",
       "      <th>1</th>\n",
       "      <td>24700.0</td>\n",
       "      <td>36 months</td>\n",
       "      <td>11.99</td>\n",
       "      <td>820.28</td>\n",
       "      <td>C</td>\n",
       "      <td>C1</td>\n",
       "      <td>Engineer</td>\n",
       "      <td>10+ years</td>\n",
       "      <td>MORTGAGE</td>\n",
       "      <td>65000.0</td>\n",
       "      <td>...</td>\n",
       "      <td>Dec-1999</td>\n",
       "      <td>22.0</td>\n",
       "      <td>0.0</td>\n",
       "      <td>21470.0</td>\n",
       "      <td>19.2</td>\n",
       "      <td>38.0</td>\n",
       "      <td>w</td>\n",
       "      <td>Individual</td>\n",
       "      <td>4.0</td>\n",
       "      <td>0.0</td>\n",
       "    </tr>\n",
       "    <tr>\n",
       "      <th>2</th>\n",
       "      <td>20000.0</td>\n",
       "      <td>60 months</td>\n",
       "      <td>10.78</td>\n",
       "      <td>432.66</td>\n",
       "      <td>B</td>\n",
       "      <td>B4</td>\n",
       "      <td>truck driver</td>\n",
       "      <td>10+ years</td>\n",
       "      <td>MORTGAGE</td>\n",
       "      <td>63000.0</td>\n",
       "      <td>...</td>\n",
       "      <td>Aug-2000</td>\n",
       "      <td>6.0</td>\n",
       "      <td>0.0</td>\n",
       "      <td>7869.0</td>\n",
       "      <td>56.2</td>\n",
       "      <td>18.0</td>\n",
       "      <td>w</td>\n",
       "      <td>Joint App</td>\n",
       "      <td>5.0</td>\n",
       "      <td>0.0</td>\n",
       "    </tr>\n",
       "    <tr>\n",
       "      <th>3</th>\n",
       "      <td>35000.0</td>\n",
       "      <td>60 months</td>\n",
       "      <td>14.85</td>\n",
       "      <td>829.90</td>\n",
       "      <td>C</td>\n",
       "      <td>C5</td>\n",
       "      <td>Information Systems Officer</td>\n",
       "      <td>10+ years</td>\n",
       "      <td>MORTGAGE</td>\n",
       "      <td>110000.0</td>\n",
       "      <td>...</td>\n",
       "      <td>Sep-2008</td>\n",
       "      <td>13.0</td>\n",
       "      <td>0.0</td>\n",
       "      <td>7802.0</td>\n",
       "      <td>11.6</td>\n",
       "      <td>17.0</td>\n",
       "      <td>w</td>\n",
       "      <td>Individual</td>\n",
       "      <td>1.0</td>\n",
       "      <td>0.0</td>\n",
       "    </tr>\n",
       "    <tr>\n",
       "      <th>4</th>\n",
       "      <td>10400.0</td>\n",
       "      <td>60 months</td>\n",
       "      <td>22.45</td>\n",
       "      <td>289.91</td>\n",
       "      <td>F</td>\n",
       "      <td>F1</td>\n",
       "      <td>Contract Specialist</td>\n",
       "      <td>3 years</td>\n",
       "      <td>MORTGAGE</td>\n",
       "      <td>104433.0</td>\n",
       "      <td>...</td>\n",
       "      <td>Jun-1998</td>\n",
       "      <td>12.0</td>\n",
       "      <td>0.0</td>\n",
       "      <td>21929.0</td>\n",
       "      <td>64.5</td>\n",
       "      <td>35.0</td>\n",
       "      <td>w</td>\n",
       "      <td>Individual</td>\n",
       "      <td>6.0</td>\n",
       "      <td>0.0</td>\n",
       "    </tr>\n",
       "  </tbody>\n",
       "</table>\n",
       "<p>5 rows × 28 columns</p>\n",
       "</div>"
      ],
      "text/plain": [
       "   loan_amnt        term  int_rate  installment grade sub_grade  \\\n",
       "0     3600.0   36 months     13.99       123.03     C        C4   \n",
       "1    24700.0   36 months     11.99       820.28     C        C1   \n",
       "2    20000.0   60 months     10.78       432.66     B        B4   \n",
       "3    35000.0   60 months     14.85       829.90     C        C5   \n",
       "4    10400.0   60 months     22.45       289.91     F        F1   \n",
       "\n",
       "                     emp_title emp_length home_ownership  annual_inc  ...  \\\n",
       "0                      leadman  10+ years       MORTGAGE     55000.0  ...   \n",
       "1                     Engineer  10+ years       MORTGAGE     65000.0  ...   \n",
       "2                 truck driver  10+ years       MORTGAGE     63000.0  ...   \n",
       "3  Information Systems Officer  10+ years       MORTGAGE    110000.0  ...   \n",
       "4          Contract Specialist    3 years       MORTGAGE    104433.0  ...   \n",
       "\n",
       "  earliest_cr_line open_acc pub_rec revol_bal revol_util total_acc  \\\n",
       "0         Aug-2003      7.0     0.0    2765.0       29.7      13.0   \n",
       "1         Dec-1999     22.0     0.0   21470.0       19.2      38.0   \n",
       "2         Aug-2000      6.0     0.0    7869.0       56.2      18.0   \n",
       "3         Sep-2008     13.0     0.0    7802.0       11.6      17.0   \n",
       "4         Jun-1998     12.0     0.0   21929.0       64.5      35.0   \n",
       "\n",
       "  initial_list_status  application_type mort_acc  pub_rec_bankruptcies  \n",
       "0                   w        Individual      1.0                   0.0  \n",
       "1                   w        Individual      4.0                   0.0  \n",
       "2                   w         Joint App      5.0                   0.0  \n",
       "3                   w        Individual      1.0                   0.0  \n",
       "4                   w        Individual      6.0                   0.0  \n",
       "\n",
       "[5 rows x 28 columns]"
      ]
     },
     "execution_count": 6,
     "metadata": {},
     "output_type": "execute_result"
    }
   ],
   "source": [
    "# modefied data based of the important features [the important features are based of the given kaggle input to us]\n",
    "data.head() # we have now like 27 columns excluding the index column"
   ]
  },
  {
   "cell_type": "code",
   "execution_count": 7,
   "id": "b100926a",
   "metadata": {},
   "outputs": [
    {
     "data": {
      "text/plain": [
       "<Axes: >"
      ]
     },
     "execution_count": 7,
     "metadata": {},
     "output_type": "execute_result"
    },
    {
     "data": {
      "image/png": "[encoded data removed]",
      "text/plain": [
       "<Figure size 640x480 with 1 Axes>"
      ]
     },
     "metadata": {},
     "output_type": "display_data"
    }
   ],
   "source": [
    "data['loan_status'].hist()"
   ]
  },
  {
   "cell_type": "code",
   "execution_count": 8,
   "id": "e72ff1e2",
   "metadata": {},
   "outputs": [],
   "source": [
    "data=data[(data['loan_status']=='Fully Paid') | (data['loan_status']=='Charged Off')]"
   ]
  },
  {
   "cell_type": "code",
   "execution_count": 9,
   "id": "ff820f98",
   "metadata": {},
   "outputs": [
    {
     "data": {
      "text/plain": [
       "<Axes: >"
      ]
     },
     "execution_count": 9,
     "metadata": {},
     "output_type": "execute_result"
    },
    {
     "data": {
      "image/png": "[encoded data removed]",
      "text/plain": [
       "<Figure size 640x480 with 1 Axes>"
      ]
     },
     "metadata": {},
     "output_type": "display_data"
    }
   ],
   "source": [
    "data['loan_status'].hist()\n",
    "# we observe a difference in the fully_paid and charged of data, we are currently doing binary classification on this data to better\n",
    "# understand the basic concepts of our data."
   ]
  },
  {
   "cell_type": "code",
   "execution_count": 10,
   "id": "2f83df1a",
   "metadata": {},
   "outputs": [
    {
     "data": {
      "text/plain": [
       "loan_amnt                   0\n",
       "term                        0\n",
       "int_rate                    0\n",
       "installment                 0\n",
       "grade                       0\n",
       "sub_grade                   0\n",
       "emp_title               85785\n",
       "emp_length              78511\n",
       "home_ownership              0\n",
       "annual_inc                  0\n",
       "verification_status         0\n",
       "issue_d                     0\n",
       "loan_status                 0\n",
       "purpose                     0\n",
       "title                   16660\n",
       "zip_code                    1\n",
       "addr_state                  0\n",
       "dti                       374\n",
       "earliest_cr_line            0\n",
       "open_acc                    0\n",
       "pub_rec                     0\n",
       "revol_bal                   0\n",
       "revol_util                857\n",
       "total_acc                   0\n",
       "initial_list_status         0\n",
       "application_type            0\n",
       "mort_acc                47281\n",
       "pub_rec_bankruptcies      697\n",
       "dtype: int64"
      ]
     },
     "execution_count": 10,
     "metadata": {},
     "output_type": "execute_result"
    }
   ],
   "source": [
    "data.isna().sum() # we can observe a lot of null values in our data that are still present there fore we need to take care of them \n",
    "# but I will be taking care of them a little late after the preprocessing of the data is done by me."
   ]
  },
  {
   "cell_type": "code",
   "execution_count": 11,
   "id": "ab5570b2",
   "metadata": {},
   "outputs": [
    {
     "data": {
      "text/plain": [
       "<Axes: xlabel='loan_amounts', ylabel='Number of people'>"
      ]
     },
     "execution_count": 11,
     "metadata": {},
     "output_type": "execute_result"
    },
    {
     "data": {
      "image/png": "[encoded data removed]",
      "text/plain": [
       "<Figure size 640x480 with 1 Axes>"
      ]
     },
     "metadata": {},
     "output_type": "display_data"
    }
   ],
   "source": [
    "plt.xlabel('loan_amounts')\n",
    "plt.ylabel('Number of people')\n",
    "data.loan_amnt.hist(bins=40) # we can see the distribnution of loan amounts based that "
   ]
  },
  {
   "cell_type": "code",
   "execution_count": 47,
   "id": "5512688f",
   "metadata": {},
   "outputs": [
    {
     "data": {
      "text/plain": [
       "term\n",
       " 36 months    1020743\n",
       " 60 months     324567\n",
       "Name: count, dtype: int64"
      ]
     },
     "execution_count": 47,
     "metadata": {},
     "output_type": "execute_result"
    }
   ],
   "source": [
    "data.term.value_counts() # have only two values so we can use one hot encoding"
   ]
  },
  {
   "cell_type": "code",
   "execution_count": 48,
   "id": "cb755cdb",
   "metadata": {},
   "outputs": [],
   "source": [
    "data['term']=pd.get_dummies(data['term'],dtype=int,drop_first=True)"
   ]
  },
  {
   "cell_type": "code",
   "execution_count": 50,
   "id": "83a83de8",
   "metadata": {},
   "outputs": [
    {
     "data": {
      "text/plain": [
       "0          0\n",
       "1          0\n",
       "2          1\n",
       "4          1\n",
       "5          0\n",
       "          ..\n",
       "2260688    1\n",
       "2260690    1\n",
       "2260691    1\n",
       "2260692    1\n",
       "2260697    1\n",
       "Name: term, Length: 1345310, dtype: int32"
      ]
     },
     "execution_count": 50,
     "metadata": {},
     "output_type": "execute_result"
    }
   ],
   "source": [
    "data['term'] # 36 months as 0 and 60 months as 1"
   ]
  },
  {
   "cell_type": "code",
   "execution_count": 51,
   "id": "8ed49a0d",
   "metadata": {},
   "outputs": [
    {
     "data": {
      "text/html": [
       "<div>\n",
       "<style scoped>\n",
       "    .dataframe tbody tr th:only-of-type {\n",
       "        vertical-align: middle;\n",
       "    }\n",
       "\n",
       "    .dataframe tbody tr th {\n",
       "        vertical-align: top;\n",
       "    }\n",
       "\n",
       "    .dataframe thead th {\n",
       "        text-align: right;\n",
       "    }\n",
       "</style>\n",
       "<table border=\"1\" class=\"dataframe\">\n",
       "  <thead>\n",
       "    <tr style=\"text-align: right;\">\n",
       "      <th></th>\n",
       "      <th>loan_amnt</th>\n",
       "      <th>term</th>\n",
       "      <th>int_rate</th>\n",
       "      <th>installment</th>\n",
       "      <th>grade</th>\n",
       "      <th>sub_grade</th>\n",
       "      <th>emp_title</th>\n",
       "      <th>emp_length</th>\n",
       "      <th>home_ownership</th>\n",
       "      <th>annual_inc</th>\n",
       "      <th>...</th>\n",
       "      <th>earliest_cr_line</th>\n",
       "      <th>open_acc</th>\n",
       "      <th>pub_rec</th>\n",
       "      <th>revol_bal</th>\n",
       "      <th>revol_util</th>\n",
       "      <th>total_acc</th>\n",
       "      <th>initial_list_status</th>\n",
       "      <th>application_type</th>\n",
       "      <th>mort_acc</th>\n",
       "      <th>pub_rec_bankruptcies</th>\n",
       "    </tr>\n",
       "  </thead>\n",
       "  <tbody>\n",
       "    <tr>\n",
       "      <th>0</th>\n",
       "      <td>3600.0</td>\n",
       "      <td>0</td>\n",
       "      <td>13.99</td>\n",
       "      <td>123.03</td>\n",
       "      <td>C</td>\n",
       "      <td>C4</td>\n",
       "      <td>leadman</td>\n",
       "      <td>10+ years</td>\n",
       "      <td>MORTGAGE</td>\n",
       "      <td>55000.0</td>\n",
       "      <td>...</td>\n",
       "      <td>Aug-2003</td>\n",
       "      <td>7.0</td>\n",
       "      <td>0.0</td>\n",
       "      <td>2765.0</td>\n",
       "      <td>29.7</td>\n",
       "      <td>13.0</td>\n",
       "      <td>w</td>\n",
       "      <td>Individual</td>\n",
       "      <td>1.0</td>\n",
       "      <td>0.0</td>\n",
       "    </tr>\n",
       "    <tr>\n",
       "      <th>1</th>\n",
       "      <td>24700.0</td>\n",
       "      <td>0</td>\n",
       "      <td>11.99</td>\n",
       "      <td>820.28</td>\n",
       "      <td>C</td>\n",
       "      <td>C1</td>\n",
       "      <td>Engineer</td>\n",
       "      <td>10+ years</td>\n",
       "      <td>MORTGAGE</td>\n",
       "      <td>65000.0</td>\n",
       "      <td>...</td>\n",
       "      <td>Dec-1999</td>\n",
       "      <td>22.0</td>\n",
       "      <td>0.0</td>\n",
       "      <td>21470.0</td>\n",
       "      <td>19.2</td>\n",
       "      <td>38.0</td>\n",
       "      <td>w</td>\n",
       "      <td>Individual</td>\n",
       "      <td>4.0</td>\n",
       "      <td>0.0</td>\n",
       "    </tr>\n",
       "    <tr>\n",
       "      <th>2</th>\n",
       "      <td>20000.0</td>\n",
       "      <td>1</td>\n",
       "      <td>10.78</td>\n",
       "      <td>432.66</td>\n",
       "      <td>B</td>\n",
       "      <td>B4</td>\n",
       "      <td>truck driver</td>\n",
       "      <td>10+ years</td>\n",
       "      <td>MORTGAGE</td>\n",
       "      <td>63000.0</td>\n",
       "      <td>...</td>\n",
       "      <td>Aug-2000</td>\n",
       "      <td>6.0</td>\n",
       "      <td>0.0</td>\n",
       "      <td>7869.0</td>\n",
       "      <td>56.2</td>\n",
       "      <td>18.0</td>\n",
       "      <td>w</td>\n",
       "      <td>Joint App</td>\n",
       "      <td>5.0</td>\n",
       "      <td>0.0</td>\n",
       "    </tr>\n",
       "    <tr>\n",
       "      <th>4</th>\n",
       "      <td>10400.0</td>\n",
       "      <td>1</td>\n",
       "      <td>22.45</td>\n",
       "      <td>289.91</td>\n",
       "      <td>F</td>\n",
       "      <td>F1</td>\n",
       "      <td>Contract Specialist</td>\n",
       "      <td>3 years</td>\n",
       "      <td>MORTGAGE</td>\n",
       "      <td>104433.0</td>\n",
       "      <td>...</td>\n",
       "      <td>Jun-1998</td>\n",
       "      <td>12.0</td>\n",
       "      <td>0.0</td>\n",
       "      <td>21929.0</td>\n",
       "      <td>64.5</td>\n",
       "      <td>35.0</td>\n",
       "      <td>w</td>\n",
       "      <td>Individual</td>\n",
       "      <td>6.0</td>\n",
       "      <td>0.0</td>\n",
       "    </tr>\n",
       "    <tr>\n",
       "      <th>5</th>\n",
       "      <td>11950.0</td>\n",
       "      <td>0</td>\n",
       "      <td>13.44</td>\n",
       "      <td>405.18</td>\n",
       "      <td>C</td>\n",
       "      <td>C3</td>\n",
       "      <td>Veterinary Tecnician</td>\n",
       "      <td>4 years</td>\n",
       "      <td>RENT</td>\n",
       "      <td>34000.0</td>\n",
       "      <td>...</td>\n",
       "      <td>Oct-1987</td>\n",
       "      <td>5.0</td>\n",
       "      <td>0.0</td>\n",
       "      <td>8822.0</td>\n",
       "      <td>68.4</td>\n",
       "      <td>6.0</td>\n",
       "      <td>w</td>\n",
       "      <td>Individual</td>\n",
       "      <td>0.0</td>\n",
       "      <td>0.0</td>\n",
       "    </tr>\n",
       "  </tbody>\n",
       "</table>\n",
       "<p>5 rows × 28 columns</p>\n",
       "</div>"
      ],
      "text/plain": [
       "   loan_amnt  term  int_rate  installment grade sub_grade  \\\n",
       "0     3600.0     0     13.99       123.03     C        C4   \n",
       "1    24700.0     0     11.99       820.28     C        C1   \n",
       "2    20000.0     1     10.78       432.66     B        B4   \n",
       "4    10400.0     1     22.45       289.91     F        F1   \n",
       "5    11950.0     0     13.44       405.18     C        C3   \n",
       "\n",
       "              emp_title emp_length home_ownership  annual_inc  ...  \\\n",
       "0               leadman  10+ years       MORTGAGE     55000.0  ...   \n",
       "1              Engineer  10+ years       MORTGAGE     65000.0  ...   \n",
       "2          truck driver  10+ years       MORTGAGE     63000.0  ...   \n",
       "4   Contract Specialist    3 years       MORTGAGE    104433.0  ...   \n",
       "5  Veterinary Tecnician    4 years           RENT     34000.0  ...   \n",
       "\n",
       "  earliest_cr_line open_acc pub_rec revol_bal revol_util total_acc  \\\n",
       "0         Aug-2003      7.0     0.0    2765.0       29.7      13.0   \n",
       "1         Dec-1999     22.0     0.0   21470.0       19.2      38.0   \n",
       "2         Aug-2000      6.0     0.0    7869.0       56.2      18.0   \n",
       "4         Jun-1998     12.0     0.0   21929.0       64.5      35.0   \n",
       "5         Oct-1987      5.0     0.0    8822.0       68.4       6.0   \n",
       "\n",
       "  initial_list_status  application_type mort_acc  pub_rec_bankruptcies  \n",
       "0                   w        Individual      1.0                   0.0  \n",
       "1                   w        Individual      4.0                   0.0  \n",
       "2                   w         Joint App      5.0                   0.0  \n",
       "4                   w        Individual      6.0                   0.0  \n",
       "5                   w        Individual      0.0                   0.0  \n",
       "\n",
       "[5 rows x 28 columns]"
      ]
     },
     "execution_count": 51,
     "metadata": {},
     "output_type": "execute_result"
    }
   ],
   "source": [
    "data.head()"
   ]
  },
  {
   "cell_type": "code",
   "execution_count": 52,
   "id": "a4f1c4bf",
   "metadata": {},
   "outputs": [
    {
     "data": {
      "text/plain": [
       "grade\n",
       "B    392741\n",
       "C    381686\n",
       "A    235090\n",
       "D    200953\n",
       "E     93650\n",
       "F     32058\n",
       "G      9132\n",
       "Name: count, dtype: int64"
      ]
     },
     "execution_count": 52,
     "metadata": {},
     "output_type": "execute_result"
    }
   ],
   "source": [
    "data.grade.value_counts()# we can use label encoding here given that A is the 1 follwed by others"
   ]
  },
  {
   "cell_type": "code",
   "execution_count": 53,
   "id": "9290fb8e",
   "metadata": {},
   "outputs": [],
   "source": [
    "from sklearn.preprocessing import LabelEncoder"
   ]
  },
  {
   "cell_type": "code",
   "execution_count": 54,
   "id": "e60eadd6",
   "metadata": {},
   "outputs": [],
   "source": [
    "lr=LabelEncoder()"
   ]
  },
  {
   "cell_type": "code",
   "execution_count": 66,
   "id": "f8aea8de",
   "metadata": {},
   "outputs": [],
   "source": [
    "data['grade']=lr.fit_transform(data['grade'])+1"
   ]
  },
  {
   "cell_type": "code",
   "execution_count": 67,
   "id": "1c05973b",
   "metadata": {},
   "outputs": [
    {
     "data": {
      "text/plain": [
       "array(['A', 'B', 'C', 'D', 'E', 'F', 'G'], dtype=object)"
      ]
     },
     "execution_count": 67,
     "metadata": {},
     "output_type": "execute_result"
    }
   ],
   "source": [
    "lr.classes_"
   ]
  },
  {
   "cell_type": "code",
   "execution_count": 68,
   "id": "83100816",
   "metadata": {},
   "outputs": [
    {
     "data": {
      "text/plain": [
       "array([1, 2, 3, 4, 5, 6, 7])"
      ]
     },
     "execution_count": 68,
     "metadata": {},
     "output_type": "execute_result"
    }
   ],
   "source": [
    "lr.transform(lr.classes_)+1"
   ]
  },
  {
   "cell_type": "code",
   "execution_count": 69,
   "id": "15cf9234",
   "metadata": {},
   "outputs": [
    {
     "data": {
      "text/plain": [
       "grade\n",
       "2    392741\n",
       "3    381686\n",
       "1    235090\n",
       "4    200953\n",
       "5     93650\n",
       "6     32058\n",
       "7      9132\n",
       "Name: count, dtype: int64"
      ]
     },
     "execution_count": 69,
     "metadata": {},
     "output_type": "execute_result"
    }
   ],
   "source": [
    "data['grade'].value_counts()# we can observe that it matches the output "
   ]
  },
  {
   "cell_type": "code",
   "execution_count": 70,
   "id": "0d7f07cd",
   "metadata": {
    "scrolled": true
   },
   "outputs": [
    {
     "data": {
      "text/plain": [
       "sub_grade\n",
       "C1    85494\n",
       "B4    83199\n",
       "B5    82538\n",
       "B3    81827\n",
       "C2    79213\n",
       "C3    74998\n",
       "C4    74421\n",
       "B2    74024\n",
       "B1    71153\n",
       "C5    67560\n",
       "A5    64003\n",
       "A4    52235\n",
       "D1    51321\n",
       "D2    44848\n",
       "A1    43678\n",
       "D3    39317\n",
       "A3    37996\n",
       "A2    37178\n",
       "D4    35566\n",
       "D5    29901\n",
       "E1    23749\n",
       "E2    21377\n",
       "E3    18387\n",
       "E4    15720\n",
       "E5    14417\n",
       "F1     9970\n",
       "F2     7198\n",
       "F3     6088\n",
       "F4     4859\n",
       "F5     3943\n",
       "G1     2997\n",
       "G2     2131\n",
       "G3     1614\n",
       "G4     1280\n",
       "G5     1110\n",
       "Name: count, dtype: int64"
      ]
     },
     "execution_count": 70,
     "metadata": {},
     "output_type": "execute_result"
    }
   ],
   "source": [
    "data.sub_grade.value_counts() # we have a lot of grades here we can't use the label encoder here directly there fore I have to "
   ]
  },
  {
   "cell_type": "code",
   "execution_count": 13,
   "id": "7174b567",
   "metadata": {},
   "outputs": [
    {
     "data": {
      "text/plain": [
       "Index(['term', 'grade', 'sub_grade', 'emp_title', 'emp_length',\n",
       "       'home_ownership', 'verification_status', 'issue_d', 'loan_status',\n",
       "       'purpose', 'title', 'zip_code', 'addr_state', 'earliest_cr_line',\n",
       "       'initial_list_status', 'application_type'],\n",
       "      dtype='object')"
      ]
     },
     "execution_count": 13,
     "metadata": {},
     "output_type": "execute_result"
    }
   ],
   "source": [
    "data.select_dtypes(include='object').columns\n",
    "# there are a lot of categorical columns that we have to deal with."
   ]
  },
  {
   "cell_type": "code",
   "execution_count": 28,
   "id": "2ed9ce22",
   "metadata": {},
   "outputs": [],
   "source": [
    "data=data.sample(random_state=42,frac=0.2945)\n",
    "# I have reduced the size of data and have taken about 30% from the entire fdataset"
   ]
  },
  {
   "cell_type": "code",
   "execution_count": 41,
   "id": "16f0c243",
   "metadata": {
    "scrolled": true
   },
   "outputs": [
    {
     "data": {
      "text/plain": [
       "loan_amnt                  0\n",
       "term                       0\n",
       "int_rate                   0\n",
       "installment                0\n",
       "grade                      0\n",
       "sub_grade                  0\n",
       "emp_title               7475\n",
       "emp_length              6826\n",
       "home_ownership             0\n",
       "annual_inc                 0\n",
       "verification_status        0\n",
       "issue_d                    0\n",
       "loan_status                0\n",
       "purpose                    0\n",
       "title                   1394\n",
       "zip_code                   0\n",
       "addr_state                 0\n",
       "dti                       37\n",
       "earliest_cr_line           0\n",
       "open_acc                   0\n",
       "pub_rec                    0\n",
       "revol_bal                  0\n",
       "revol_util                62\n",
       "total_acc                  0\n",
       "initial_list_status        0\n",
       "application_type           0\n",
       "mort_acc                4079\n",
       "pub_rec_bankruptcies      56\n",
       "dtype: int64"
      ]
     },
     "execution_count": 41,
     "metadata": {},
     "output_type": "execute_result"
    }
   ],
   "source": [
    "data.isna().sum()"
   ]
  },
  {
   "cell_type": "code",
   "execution_count": 43,
   "id": "b975cc36",
   "metadata": {},
   "outputs": [
    {
     "data": {
      "text/plain": [
       "emp_title\n",
       "Teacher                    1843\n",
       "Manager                    1698\n",
       "Owner                       859\n",
       "RN                          782\n",
       "Registered Nurse            740\n",
       "                           ... \n",
       "Miami Air International       1\n",
       "Programemr                    1\n",
       "Hvac tech supervisor          1\n",
       "IT Manager / Assistant        1\n",
       "Shop Supervisors              1\n",
       "Name: count, Length: 50351, dtype: int64"
      ]
     },
     "execution_count": 43,
     "metadata": {},
     "output_type": "execute_result"
    }
   ],
   "source": [
    "data['emp_title'].value_counts()# A lot of unique titiles here "
   ]
  },
  {
   "cell_type": "code",
   "execution_count": 44,
   "id": "a9397f34",
   "metadata": {},
   "outputs": [],
   "source": [
    "data.drop('emp_title',inplace=True,axis=1)"
   ]
  },
  {
   "cell_type": "code",
   "execution_count": 51,
   "id": "04fcb58c",
   "metadata": {
    "scrolled": true
   },
   "outputs": [
    {
     "data": {
      "text/plain": [
       "<Axes: xlabel='emp_length', ylabel='count'>"
      ]
     },
     "execution_count": 51,
     "metadata": {},
     "output_type": "execute_result"
    },
    {
     "data": {
      "image/png": "[encoded data removed]",
      "text/plain": [
       "<Figure size 1000x1000 with 1 Axes>"
      ]
     },
     "metadata": {},
     "output_type": "display_data"
    }
   ],
   "source": [
    "plt.figure(figsize=(10,10))\n",
    "sns.countplot(x=(data['emp_length']),data=data,hue='loan_status')"
   ]
  },
  {
   "cell_type": "code",
   "execution_count": 73,
   "id": "60d22a27",
   "metadata": {},
   "outputs": [],
   "source": [
    "# how many percent of people actually paid off based on their employment types, basically find the a #\n",
    "# ratio of how many people paid back in which category and how many didin't\n",
    "abc=data[['emp_length','loan_status']]\n",
    "abc_co=abc[abc['loan_status']=='Charged Off'].groupby('emp_length')['loan_status'].count()       \n",
    "abc_fp=abc[abc['loan_status']=='Fully Paid'].groupby('emp_length')['loan_status'].count()"
   ]
  },
  {
   "cell_type": "code",
   "execution_count": 77,
   "id": "716048dd",
   "metadata": {},
   "outputs": [
    {
     "data": {
      "text/plain": [
       "emp_length\n",
       "1 year       0.200938\n",
       "10+ years    0.186476\n",
       "2 years      0.199043\n",
       "3 years      0.200323\n",
       "4 years      0.196799\n",
       "5 years      0.186461\n",
       "6 years      0.181902\n",
       "7 years      0.192788\n",
       "8 years      0.192996\n",
       "9 years      0.193257\n",
       "< 1 year     0.201601\n",
       "Name: loan_status, dtype: float64"
      ]
     },
     "execution_count": 77,
     "metadata": {},
     "output_type": "execute_result"
    }
   ],
   "source": [
    "abc_co/(abc_fp+abc_co) # this suggest us that there is not much differnce in the percentage of changes.\n",
    "# all thecategories have around 20% of people who are charged off\n",
    "# as there is very similarity  nad no information that we are getting off from this therefore we will drop the columns off."
   ]
  },
  {
   "cell_type": "code",
   "execution_count": 78,
   "id": "7d404611",
   "metadata": {},
   "outputs": [],
   "source": [
    "data.drop('emp_length',axis=1,inplace=True)"
   ]
  },
  {
   "cell_type": "code",
   "execution_count": 79,
   "id": "30c0b602",
   "metadata": {
    "scrolled": true
   },
   "outputs": [
    {
     "data": {
      "text/html": [
       "<div>\n",
       "<style scoped>\n",
       "    .dataframe tbody tr th:only-of-type {\n",
       "        vertical-align: middle;\n",
       "    }\n",
       "\n",
       "    .dataframe tbody tr th {\n",
       "        vertical-align: top;\n",
       "    }\n",
       "\n",
       "    .dataframe thead th {\n",
       "        text-align: right;\n",
       "    }\n",
       "</style>\n",
       "<table border=\"1\" class=\"dataframe\">\n",
       "  <thead>\n",
       "    <tr style=\"text-align: right;\">\n",
       "      <th></th>\n",
       "      <th>title</th>\n",
       "      <th>purpose</th>\n",
       "    </tr>\n",
       "  </thead>\n",
       "  <tbody>\n",
       "    <tr>\n",
       "      <th>107235</th>\n",
       "      <td>Medical expenses</td>\n",
       "      <td>medical</td>\n",
       "    </tr>\n",
       "    <tr>\n",
       "      <th>124239</th>\n",
       "      <td>Debt consolidation</td>\n",
       "      <td>debt_consolidation</td>\n",
       "    </tr>\n",
       "    <tr>\n",
       "      <th>1858328</th>\n",
       "      <td>Refinance</td>\n",
       "      <td>credit_card</td>\n",
       "    </tr>\n",
       "    <tr>\n",
       "      <th>2094253</th>\n",
       "      <td>Debt consolidation</td>\n",
       "      <td>debt_consolidation</td>\n",
       "    </tr>\n",
       "    <tr>\n",
       "      <th>652755</th>\n",
       "      <td>Debt consolidation</td>\n",
       "      <td>debt_consolidation</td>\n",
       "    </tr>\n",
       "    <tr>\n",
       "      <th>...</th>\n",
       "      <td>...</td>\n",
       "      <td>...</td>\n",
       "    </tr>\n",
       "    <tr>\n",
       "      <th>1953043</th>\n",
       "      <td>Debt consolidation</td>\n",
       "      <td>debt_consolidation</td>\n",
       "    </tr>\n",
       "    <tr>\n",
       "      <th>2012809</th>\n",
       "      <td>Debt consolidation</td>\n",
       "      <td>debt_consolidation</td>\n",
       "    </tr>\n",
       "    <tr>\n",
       "      <th>2035389</th>\n",
       "      <td>Car financing</td>\n",
       "      <td>car</td>\n",
       "    </tr>\n",
       "    <tr>\n",
       "      <th>505701</th>\n",
       "      <td>Other</td>\n",
       "      <td>other</td>\n",
       "    </tr>\n",
       "    <tr>\n",
       "      <th>292723</th>\n",
       "      <td>Debt consolidation</td>\n",
       "      <td>debt_consolidation</td>\n",
       "    </tr>\n",
       "  </tbody>\n",
       "</table>\n",
       "<p>116679 rows × 2 columns</p>\n",
       "</div>"
      ],
      "text/plain": [
       "                      title             purpose\n",
       "107235     Medical expenses             medical\n",
       "124239   Debt consolidation  debt_consolidation\n",
       "1858328           Refinance         credit_card\n",
       "2094253  Debt consolidation  debt_consolidation\n",
       "652755   Debt consolidation  debt_consolidation\n",
       "...                     ...                 ...\n",
       "1953043  Debt consolidation  debt_consolidation\n",
       "2012809  Debt consolidation  debt_consolidation\n",
       "2035389       Car financing                 car\n",
       "505701                Other               other\n",
       "292723   Debt consolidation  debt_consolidation\n",
       "\n",
       "[116679 rows x 2 columns]"
      ]
     },
     "execution_count": 79,
     "metadata": {},
     "output_type": "execute_result"
    }
   ],
   "source": [
    "# title an dpurpose have the same meanings\n",
    "data[['title','purpose']] # and they are basically one and the same thing therfore dropping off title would be a good choice"
   ]
  },
  {
   "cell_type": "code",
   "execution_count": 80,
   "id": "88a725be",
   "metadata": {},
   "outputs": [],
   "source": [
    "data.drop('title',axis=1,inplace=True)"
   ]
  },
  {
   "cell_type": "code",
   "execution_count": 82,
   "id": "a59a8f06",
   "metadata": {
    "scrolled": true
   },
   "outputs": [
    {
     "data": {
      "text/plain": [
       "mort_acc\n",
       "0.0     45342\n",
       "1.0     19594\n",
       "2.0     16373\n",
       "3.0     12038\n",
       "4.0      8251\n",
       "5.0      5101\n",
       "6.0      2844\n",
       "7.0      1479\n",
       "8.0       761\n",
       "9.0       375\n",
       "10.0      177\n",
       "11.0      118\n",
       "12.0       54\n",
       "13.0       31\n",
       "15.0       18\n",
       "14.0       13\n",
       "17.0        7\n",
       "16.0        7\n",
       "18.0        6\n",
       "21.0        4\n",
       "19.0        4\n",
       "25.0        1\n",
       "20.0        1\n",
       "24.0        1\n",
       "Name: count, dtype: int64"
      ]
     },
     "execution_count": 82,
     "metadata": {},
     "output_type": "execute_result"
    }
   ],
   "source": [
    "data['mort_acc'].value_counts() # to find out how many unique values are here as this is the column which has a lot of misisng values \n",
    "# and is one of the important \n",
    "# the main problem that we have for this is that how would we determine, how to fill in this data, for that we need to find the \n",
    "# correlation of this with other features."
   ]
  },
  {
   "cell_type": "code",
   "execution_count": 83,
   "id": "e3f6763e",
   "metadata": {},
   "outputs": [],
   "source": [
    "num_cols=data.select_dtypes(include=['float','int']).columns"
   ]
  },
  {
   "cell_type": "code",
   "execution_count": 87,
   "id": "6ecd19db",
   "metadata": {
    "scrolled": true
   },
   "outputs": [
    {
     "data": {
      "text/plain": [
       "<Axes: >"
      ]
     },
     "execution_count": 87,
     "metadata": {},
     "output_type": "execute_result"
    },
    {
     "data": {
      "image/png": "[encoded data removed]",
      "text/plain": [
       "<Figure size 1000x1000 with 2 Axes>"
      ]
     },
     "metadata": {},
     "output_type": "display_data"
    }
   ],
   "source": [
    "plt.figure(figsize=(10,10))\n",
    "sns.heatmap(data[num_cols].corr(),annot=True,cmap='coolwarm')\n",
    "# we observe that mott_acc do not have a high correlation with any of the given features, except_ totola_acc "
   ]
  },
  {
   "cell_type": "code",
   "execution_count": 105,
   "id": "2324532a",
   "metadata": {},
   "outputs": [
    {
     "data": {
      "text/plain": [
       "total_acc\n",
       "2.0      0.000000\n",
       "3.0      0.020202\n",
       "4.0      0.063953\n",
       "5.0      0.142857\n",
       "6.0      0.151844\n",
       "           ...   \n",
       "114.0    4.000000\n",
       "115.0    0.000000\n",
       "116.0    2.000000\n",
       "125.0    1.000000\n",
       "126.0    4.000000\n",
       "Name: mort_acc, Length: 110, dtype: float64"
      ]
     },
     "execution_count": 105,
     "metadata": {},
     "output_type": "execute_result"
    }
   ],
   "source": [
    "# so we are going to fill the vaues based of total_acc in mort_acc\n",
    "data_t_m=data[['total_acc','mort_acc']].reset_index(drop=True)\n",
    "data_t_m.groupby('total_acc').mean()['mort_acc'] # based on total accounts we are getting the average of mort_accounts \n",
    "# we can use this avergae to fill in the missing values of the mort_acc"
   ]
  },
  {
   "cell_type": "code",
   "execution_count": 106,
   "id": "90e8cad9",
   "metadata": {},
   "outputs": [],
   "source": [
    "total_acc_avg=data_t_m.groupby('total_acc').mean()['mort_acc']"
   ]
  },
  {
   "cell_type": "code",
   "execution_count": 107,
   "id": "b84015b5",
   "metadata": {},
   "outputs": [
    {
     "data": {
      "text/plain": [
       "total_acc\n",
       "2.0      0.000000\n",
       "3.0      0.020202\n",
       "4.0      0.063953\n",
       "5.0      0.142857\n",
       "6.0      0.151844\n",
       "           ...   \n",
       "114.0    4.000000\n",
       "115.0    0.000000\n",
       "116.0    2.000000\n",
       "125.0    1.000000\n",
       "126.0    4.000000\n",
       "Name: mort_acc, Length: 110, dtype: float64"
      ]
     },
     "execution_count": 107,
     "metadata": {},
     "output_type": "execute_result"
    }
   ],
   "source": [
    "total_acc_avg"
   ]
  },
  {
   "cell_type": "code",
   "execution_count": 108,
   "id": "ce906411",
   "metadata": {},
   "outputs": [],
   "source": [
    "def fill_mort_acc(total_acc,mort_acc):\n",
    "    if np.isnan(mort_acc):\n",
    "        return total_acc_avg[total_acc]\n",
    "    else:\n",
    "        return mort_acc"
   ]
  },
  {
   "cell_type": "code",
   "execution_count": 114,
   "id": "395ce70d",
   "metadata": {},
   "outputs": [],
   "source": [
    "l=[]\n",
    "for i in range(len(data_t_m)):\n",
    "    l.append(fill_mort_acc(data_t_m['total_acc'][i],data_t_m['mort_acc'][i]))"
   ]
  },
  {
   "cell_type": "code",
   "execution_count": 115,
   "id": "e565772d",
   "metadata": {},
   "outputs": [
    {
     "data": {
      "text/plain": [
       "[3.0,\n",
       " 0.0,\n",
       " 0.0,\n",
       " 0.0,\n",
       " 0.0,\n",
       " 2.4979955456570155,\n",
       " 2.0,\n",
       " 0.0,\n",
       " 3.0,\n",
       " 0.0,\n",
       " 1.0,\n",
       " 0.0,\n",
       " 2.0,\n",
       " 0.0,\n",
       " 1.0,\n",
       " 0.0,\n",
       " 1.0,\n",
       " 0.0,\n",
       " 2.0,\n",
       " 4.0,\n",
       " 2.0,\n",
       " 0.0,\n",
       " 1.0,\n",
       " 1.0,\n",
       " 0.0,\n",
       " 3.0,\n",
       " 1.0,\n",
       " 5.0,\n",
       " 0.0,\n",
       " 0.0,\n",
       " 3.0,\n",
       " 1.0,\n",
       " 2.0,\n",
       " 2.0,\n",
       " 3.0,\n",
       " 1.0,\n",
       " 3.0,\n",
       " 2.0,\n",
       " 0.0,\n",
       " 2.0,\n",
       " 4.0,\n",
       " 1.0,\n",
       " 0.0,\n",
       " 5.0,\n",
       " 0.0,\n",
       " 3.0,\n",
       " 1.0,\n",
       " 3.0,\n",
       " 3.0,\n",
       " 0.0,\n",
       " 1.0,\n",
       " 3.0,\n",
       " 0.0,\n",
       " 2.0,\n",
       " 6.0,\n",
       " 0.0,\n",
       " 1.0,\n",
       " 0.0,\n",
       " 1.0,\n",
       " 0.0,\n",
       " 4.0,\n",
       " 3.0,\n",
       " 0.0,\n",
       " 0.0,\n",
       " 1.0,\n",
       " 1.0,\n",
       " 0.0,\n",
       " 0.0,\n",
       " 0.0,\n",
       " 5.0,\n",
       " 3.0,\n",
       " 0.0,\n",
       " 0.0,\n",
       " 0.0,\n",
       " 2.0,\n",
       " 2.0,\n",
       " 4.0,\n",
       " 0.0,\n",
       " 4.0,\n",
       " 0.0,\n",
       " 5.0,\n",
       " 3.0,\n",
       " 2.0,\n",
       " 0.0,\n",
       " 1.0,\n",
       " 3.0,\n",
       " 4.0,\n",
       " 4.0,\n",
       " 5.0,\n",
       " 1.0,\n",
       " 0.0,\n",
       " 4.0,\n",
       " 0.0,\n",
       " 2.344812362030905,\n",
       " 0.0,\n",
       " 0.0,\n",
       " 0.0,\n",
       " 3.0,\n",
       " 2.0,\n",
       " 0.0,\n",
       " 1.0,\n",
       " 0.0,\n",
       " 0.0,\n",
       " 3.0,\n",
       " 0.0,\n",
       " 2.0,\n",
       " 1.0,\n",
       " 3.0,\n",
       " 0.0,\n",
       " 1.0,\n",
       " 2.0,\n",
       " 0.0,\n",
       " 0.0,\n",
       " 2.0,\n",
       " 1.0,\n",
       " 2.0,\n",
       " 4.0,\n",
       " 0.0,\n",
       " 0.0,\n",
       " 2.0,\n",
       " 0.0,\n",
       " 0.0,\n",
       " 2.0,\n",
       " 0.0,\n",
       " 2.0,\n",
       " 3.0,\n",
       " 0.0,\n",
       " 9.0,\n",
       " 5.0,\n",
       " 1.0,\n",
       " 5.0,\n",
       " 5.0,\n",
       " 0.0,\n",
       " 5.0,\n",
       " 6.0,\n",
       " 1.0,\n",
       " 1.8577824598367132,\n",
       " 6.0,\n",
       " 1.0,\n",
       " 3.0,\n",
       " 2.0,\n",
       " 1.0,\n",
       " 0.0,\n",
       " 1.0,\n",
       " 4.0,\n",
       " 2.0,\n",
       " 0.0,\n",
       " 1.0,\n",
       " 6.0,\n",
       " 1.0,\n",
       " 2.0,\n",
       " 1.0,\n",
       " 3.0,\n",
       " 3.0,\n",
       " 1.0,\n",
       " 1.0,\n",
       " 0.0,\n",
       " 0.0,\n",
       " 7.0,\n",
       " 0.0,\n",
       " 3.0,\n",
       " 0.0,\n",
       " 0.0,\n",
       " 4.0,\n",
       " 3.0,\n",
       " 0.0,\n",
       " 0.0,\n",
       " 2.0,\n",
       " 4.0,\n",
       " 0.0,\n",
       " 3.0,\n",
       " 5.0,\n",
       " 3.0,\n",
       " 3.0,\n",
       " 1.0,\n",
       " 0.0,\n",
       " 1.0,\n",
       " 0.0,\n",
       " 2.0,\n",
       " 1.2358156028368794,\n",
       " 0.0,\n",
       " 0.0,\n",
       " 1.0,\n",
       " 0.0,\n",
       " 0.0,\n",
       " 0.0,\n",
       " 0.0,\n",
       " 6.0,\n",
       " 0.0,\n",
       " 3.0,\n",
       " 5.0,\n",
       " 5.0,\n",
       " 2.0,\n",
       " 3.0,\n",
       " 2.0,\n",
       " 0.0,\n",
       " 4.0,\n",
       " 1.0,\n",
       " 0.0,\n",
       " 3.0,\n",
       " 2.0,\n",
       " 0.0,\n",
       " 0.0,\n",
       " 0.0,\n",
       " 0.0,\n",
       " 2.0,\n",
       " 1.0,\n",
       " 0.0,\n",
       " 0.0,\n",
       " 2.0,\n",
       " 0.0,\n",
       " 5.0,\n",
       " 4.0,\n",
       " 2.0,\n",
       " 1.0,\n",
       " 1.0,\n",
       " 1.0,\n",
       " 0.0,\n",
       " 0.0,\n",
       " 0.0,\n",
       " 4.0,\n",
       " 4.0,\n",
       " 0.0,\n",
       " 0.0,\n",
       " 0.0,\n",
       " 1.0,\n",
       " 0.0,\n",
       " 0.0,\n",
       " 0.0,\n",
       " 2.0,\n",
       " 2.0,\n",
       " 3.0,\n",
       " 4.0,\n",
       " 2.0,\n",
       " 1.0,\n",
       " 1.0,\n",
       " 0.0,\n",
       " 0.0,\n",
       " 1.0,\n",
       " 0.0,\n",
       " 2.0,\n",
       " 1.0,\n",
       " 1.0,\n",
       " 0.0,\n",
       " 1.0,\n",
       " 0.9480044969083755,\n",
       " 0.0,\n",
       " 0.0,\n",
       " 0.0,\n",
       " 3.0,\n",
       " 0.0,\n",
       " 0.0,\n",
       " 0.9967514889009204,\n",
       " 4.0,\n",
       " 0.0,\n",
       " 1.0,\n",
       " 0.0,\n",
       " 0.0,\n",
       " 3.0,\n",
       " 1.0,\n",
       " 1.0,\n",
       " 1.0,\n",
       " 0.0,\n",
       " 1.0,\n",
       " 2.0,\n",
       " 1.0,\n",
       " 0.0,\n",
       " 0.0,\n",
       " 0.0,\n",
       " 1.8577824598367132,\n",
       " 4.0,\n",
       " 6.0,\n",
       " 2.0,\n",
       " 2.0,\n",
       " 3.0,\n",
       " 0.0,\n",
       " 0.0,\n",
       " 0.0,\n",
       " 0.0,\n",
       " 5.0,\n",
       " 0.0,\n",
       " 0.0,\n",
       " 0.0,\n",
       " 2.0,\n",
       " 2.678811121764142,\n",
       " 7.0,\n",
       " 2.0,\n",
       " 0.0,\n",
       " 0.0,\n",
       " 0.0,\n",
       " 4.0,\n",
       " 0.0,\n",
       " 0.0,\n",
       " 8.0,\n",
       " 4.0,\n",
       " 0.0,\n",
       " 1.0,\n",
       " 0.0,\n",
       " 0.0,\n",
       " 0.0,\n",
       " 0.0,\n",
       " 1.0,\n",
       " 0.0,\n",
       " 0.0,\n",
       " 2.0,\n",
       " 2.0,\n",
       " 0.0,\n",
       " 0.0,\n",
       " 2.0,\n",
       " 0.0,\n",
       " 0.0,\n",
       " 8.0,\n",
       " 0.0,\n",
       " 3.0,\n",
       " 0.0,\n",
       " 2.0,\n",
       " 0.0,\n",
       " 2.0,\n",
       " 4.0,\n",
       " 3.0,\n",
       " 1.0,\n",
       " 0.0,\n",
       " 0.0,\n",
       " 0.0,\n",
       " 0.0,\n",
       " 2.0,\n",
       " 1.0,\n",
       " 0.0,\n",
       " 2.0,\n",
       " 2.0,\n",
       " 0.0,\n",
       " 2.0,\n",
       " 0.0,\n",
       " 1.0,\n",
       " 4.0,\n",
       " 0.0,\n",
       " 5.0,\n",
       " 0.0,\n",
       " 3.0,\n",
       " 0.0,\n",
       " 2.0,\n",
       " 0.0,\n",
       " 5.0,\n",
       " 0.0,\n",
       " 0.0,\n",
       " 1.0,\n",
       " 1.0,\n",
       " 0.0,\n",
       " 5.0,\n",
       " 2.0,\n",
       " 5.0,\n",
       " 1.0,\n",
       " 0.0,\n",
       " 0.0,\n",
       " 0.0,\n",
       " 3.0,\n",
       " 0.0,\n",
       " 5.0,\n",
       " 6.0,\n",
       " 2.0,\n",
       " 0.0,\n",
       " 3.0,\n",
       " 4.0,\n",
       " 4.0,\n",
       " 0.0,\n",
       " 1.0,\n",
       " 0.0,\n",
       " 5.0,\n",
       " 0.0,\n",
       " 3.0,\n",
       " 1.0,\n",
       " 0.0,\n",
       " 1.0,\n",
       " 4.0,\n",
       " 5.0,\n",
       " 0.0,\n",
       " 0.0,\n",
       " 0.0,\n",
       " 0.0,\n",
       " 1.0,\n",
       " 6.0,\n",
       " 5.0,\n",
       " 1.0,\n",
       " 0.0,\n",
       " 0.0,\n",
       " 1.0,\n",
       " 0.0,\n",
       " 4.0,\n",
       " 0.0,\n",
       " 2.0,\n",
       " 4.0,\n",
       " 4.0,\n",
       " 1.0,\n",
       " 1.0,\n",
       " 0.0,\n",
       " 0.0,\n",
       " 3.0,\n",
       " 0.0,\n",
       " 2.5472186287192757,\n",
       " 0.0,\n",
       " 0.0,\n",
       " 6.0,\n",
       " 2.0,\n",
       " 5.0,\n",
       " 1.0,\n",
       " 0.0,\n",
       " 2.0,\n",
       " 2.0,\n",
       " 0.0,\n",
       " 0.0,\n",
       " 0.0,\n",
       " 0.0,\n",
       " 5.0,\n",
       " 1.0,\n",
       " 0.0,\n",
       " 2.0,\n",
       " 1.0,\n",
       " 0.0,\n",
       " 0.0,\n",
       " 5.0,\n",
       " 2.0,\n",
       " 0.0,\n",
       " 0.0,\n",
       " 0.0,\n",
       " 4.0,\n",
       " 0.0,\n",
       " 0.0,\n",
       " 2.0,\n",
       " 0.0,\n",
       " 3.0,\n",
       " 1.0,\n",
       " 4.0,\n",
       " 1.0,\n",
       " 0.0,\n",
       " 7.0,\n",
       " 1.0,\n",
       " 0.0,\n",
       " 4.0,\n",
       " 3.0,\n",
       " 2.0,\n",
       " 6.0,\n",
       " 1.0,\n",
       " 0.0,\n",
       " 2.8627027027027028,\n",
       " 5.0,\n",
       " 5.0,\n",
       " 1.0,\n",
       " 0.0,\n",
       " 2.0,\n",
       " 0.38303341902313626,\n",
       " 2.0,\n",
       " 4.0,\n",
       " 0.0,\n",
       " 0.0,\n",
       " 0.0,\n",
       " 3.0,\n",
       " 3.0,\n",
       " 1.0,\n",
       " 0.0,\n",
       " 4.0,\n",
       " 0.0,\n",
       " 0.0,\n",
       " 6.0,\n",
       " 0.0,\n",
       " 7.0,\n",
       " 0.0,\n",
       " 2.8627027027027028,\n",
       " 1.0,\n",
       " 3.0,\n",
       " 0.0,\n",
       " 2.0,\n",
       " 1.9675925925925926,\n",
       " 0.0,\n",
       " 0.0,\n",
       " 0.0,\n",
       " 0.0,\n",
       " 4.0,\n",
       " 1.0,\n",
       " 0.3146067415730337,\n",
       " 6.0,\n",
       " 4.0,\n",
       " 1.0,\n",
       " 1.0,\n",
       " 4.0,\n",
       " 6.0,\n",
       " 0.0,\n",
       " 0.0,\n",
       " 4.0,\n",
       " 1.0,\n",
       " 5.0,\n",
       " 1.0,\n",
       " 1.0,\n",
       " 0.0,\n",
       " 0.0,\n",
       " 2.0,\n",
       " 0.0,\n",
       " 2.0,\n",
       " 1.0,\n",
       " 1.0,\n",
       " 1.0,\n",
       " 2.0,\n",
       " 0.0,\n",
       " 0.0,\n",
       " 0.0,\n",
       " 0.0,\n",
       " 5.0,\n",
       " 0.0,\n",
       " 7.0,\n",
       " 2.0,\n",
       " 0.0,\n",
       " 2.0,\n",
       " 0.0,\n",
       " 0.0,\n",
       " 1.0,\n",
       " 3.0,\n",
       " 2.0,\n",
       " 1.5858560794044665,\n",
       " 1.0,\n",
       " 0.0,\n",
       " 0.020202020202020204,\n",
       " 3.0,\n",
       " 0.0,\n",
       " 2.0,\n",
       " 0.0,\n",
       " 1.0,\n",
       " 1.0,\n",
       " 0.0,\n",
       " 1.0,\n",
       " 3.0,\n",
       " 3.0,\n",
       " 0.0,\n",
       " 2.0,\n",
       " 3.0,\n",
       " 6.0,\n",
       " 1.0,\n",
       " 2.0,\n",
       " 0.0,\n",
       " 1.4373776908023483,\n",
       " 0.0,\n",
       " 6.0,\n",
       " 4.0,\n",
       " 2.0,\n",
       " 0.0,\n",
       " 2.0,\n",
       " 1.0,\n",
       " 2.0,\n",
       " 0.0,\n",
       " 3.0,\n",
       " 3.0,\n",
       " 0.0,\n",
       " 2.0,\n",
       " 5.0,\n",
       " 1.0,\n",
       " 0.0,\n",
       " 0.0,\n",
       " 0.0,\n",
       " 2.0,\n",
       " 3.0,\n",
       " 2.0,\n",
       " 5.0,\n",
       " 6.0,\n",
       " 3.0,\n",
       " 5.0,\n",
       " 0.22652388797364087,\n",
       " 1.3087557603686637,\n",
       " 1.0,\n",
       " 0.0,\n",
       " 1.0,\n",
       " 0.0,\n",
       " 4.0,\n",
       " 2.0,\n",
       " 2.0,\n",
       " 3.0,\n",
       " 2.0,\n",
       " 0.0,\n",
       " 1.0,\n",
       " 6.0,\n",
       " 4.0,\n",
       " 0.0,\n",
       " 0.0,\n",
       " 1.0,\n",
       " 0.0,\n",
       " 2.0,\n",
       " 2.0,\n",
       " 2.0,\n",
       " 3.0,\n",
       " 0.020202020202020204,\n",
       " 2.0,\n",
       " 9.0,\n",
       " 5.0,\n",
       " 2.838235294117647,\n",
       " 1.0,\n",
       " 0.0,\n",
       " 3.0,\n",
       " 0.0,\n",
       " 6.0,\n",
       " 2.0,\n",
       " 3.0,\n",
       " 0.0,\n",
       " 0.0,\n",
       " 3.0,\n",
       " 0.0,\n",
       " 0.0,\n",
       " 2.0,\n",
       " 0.0,\n",
       " 2.5076142131979697,\n",
       " 0.0,\n",
       " 0.0,\n",
       " 4.0,\n",
       " 2.0,\n",
       " 0.0,\n",
       " 2.0,\n",
       " 4.0,\n",
       " 1.0,\n",
       " 5.0,\n",
       " 0.0,\n",
       " 0.0,\n",
       " 0.0,\n",
       " 1.0,\n",
       " 2.0,\n",
       " 4.0,\n",
       " 1.0,\n",
       " 1.676721970839618,\n",
       " 0.0,\n",
       " 0.0,\n",
       " 0.0,\n",
       " 1.0,\n",
       " 4.0,\n",
       " 1.0,\n",
       " 0.14285714285714285,\n",
       " 2.0,\n",
       " 5.0,\n",
       " 2.0,\n",
       " 0.0,\n",
       " 3.0,\n",
       " 0.0,\n",
       " 0.0,\n",
       " 0.0,\n",
       " 0.0,\n",
       " 1.0,\n",
       " 1.0,\n",
       " 1.0,\n",
       " 0.0,\n",
       " 0.0,\n",
       " 0.0,\n",
       " 5.0,\n",
       " 2.0,\n",
       " 0.0,\n",
       " 1.0,\n",
       " 1.0,\n",
       " 1.0,\n",
       " 0.0,\n",
       " 6.0,\n",
       " 0.0,\n",
       " 0.22652388797364087,\n",
       " 0.0,\n",
       " 2.0,\n",
       " 1.0,\n",
       " 1.0,\n",
       " 0.0,\n",
       " 6.0,\n",
       " 5.0,\n",
       " 4.0,\n",
       " 0.0,\n",
       " 2.0,\n",
       " 0.0,\n",
       " 0.0,\n",
       " 2.0,\n",
       " 0.0,\n",
       " 0.0,\n",
       " 1.9675925925925926,\n",
       " 0.0,\n",
       " 1.0,\n",
       " 0.0,\n",
       " 2.0,\n",
       " 0.0,\n",
       " 0.0,\n",
       " 0.0,\n",
       " 2.0,\n",
       " 0.0,\n",
       " 4.0,\n",
       " 1.0,\n",
       " 0.0,\n",
       " 6.0,\n",
       " 6.0,\n",
       " 1.0,\n",
       " 0.0,\n",
       " 0.0,\n",
       " 2.0,\n",
       " 1.0,\n",
       " 2.0,\n",
       " 0.0,\n",
       " 0.0,\n",
       " 2.165585524069648,\n",
       " 0.0,\n",
       " 1.0,\n",
       " 3.0,\n",
       " 0.0,\n",
       " 0.0,\n",
       " 5.0,\n",
       " 7.0,\n",
       " 8.0,\n",
       " 1.0,\n",
       " 0.0,\n",
       " 2.0,\n",
       " 1.0,\n",
       " 2.0,\n",
       " 0.0,\n",
       " 0.0,\n",
       " 0.0,\n",
       " 3.0,\n",
       " 2.0,\n",
       " 2.344812362030905,\n",
       " 0.0,\n",
       " 5.0,\n",
       " 0.0,\n",
       " 1.0,\n",
       " 3.0,\n",
       " 1.4740090197009257,\n",
       " 0.0,\n",
       " 0.0,\n",
       " 0.0,\n",
       " 0.0,\n",
       " 5.0,\n",
       " 2.0,\n",
       " 0.0,\n",
       " 2.0,\n",
       " 1.143659096708344,\n",
       " 1.0,\n",
       " 0.0,\n",
       " 1.0,\n",
       " 1.0,\n",
       " 0.0,\n",
       " 0.0,\n",
       " 0.0,\n",
       " 3.0,\n",
       " 2.0,\n",
       " 2.0,\n",
       " 0.7305122494432071,\n",
       " 0.0,\n",
       " 3.0,\n",
       " 1.0,\n",
       " 0.0,\n",
       " 3.0,\n",
       " 0.0,\n",
       " 3.0,\n",
       " 0.0,\n",
       " 3.0,\n",
       " 2.0,\n",
       " 0.0,\n",
       " 0.0,\n",
       " 1.0,\n",
       " 0.0,\n",
       " 1.0,\n",
       " 1.0,\n",
       " 0.0,\n",
       " 3.0,\n",
       " 1.0,\n",
       " 0.0,\n",
       " 2.0,\n",
       " 0.0,\n",
       " 1.0,\n",
       " 0.0,\n",
       " 0.0,\n",
       " 0.0,\n",
       " 0.0,\n",
       " 2.0,\n",
       " 0.9967514889009204,\n",
       " 4.0,\n",
       " 2.0,\n",
       " 0.0,\n",
       " 2.0,\n",
       " 1.0,\n",
       " 0.0,\n",
       " 9.0,\n",
       " 7.0,\n",
       " 0.0,\n",
       " 0.0,\n",
       " 2.0,\n",
       " 1.3087557603686637,\n",
       " 1.0,\n",
       " 0.0,\n",
       " 1.0,\n",
       " 3.0,\n",
       " 0.0,\n",
       " 6.0,\n",
       " 3.0,\n",
       " 2.0,\n",
       " 3.0,\n",
       " 0.0,\n",
       " 3.0,\n",
       " 2.0,\n",
       " 3.0,\n",
       " 7.0,\n",
       " 2.0,\n",
       " 1.0,\n",
       " 0.0,\n",
       " 0.0,\n",
       " 6.0,\n",
       " 4.0,\n",
       " 0.0,\n",
       " 2.0,\n",
       " 0.0,\n",
       " 0.0,\n",
       " 0.0,\n",
       " 2.0,\n",
       " 2.0,\n",
       " 0.0,\n",
       " 3.0,\n",
       " 4.0,\n",
       " 1.0,\n",
       " 0.0,\n",
       " 0.0,\n",
       " 0.0,\n",
       " 0.0,\n",
       " 0.0,\n",
       " 0.0,\n",
       " 1.0,\n",
       " 3.0,\n",
       " 1.0,\n",
       " 3.0,\n",
       " 1.0,\n",
       " 0.0,\n",
       " 2.0,\n",
       " 2.0,\n",
       " 3.0,\n",
       " 2.0,\n",
       " 0.0,\n",
       " 0.0,\n",
       " 2.0,\n",
       " 5.0,\n",
       " 0.0,\n",
       " 0.0,\n",
       " 5.0,\n",
       " 4.0,\n",
       " 2.0,\n",
       " 0.0,\n",
       " 0.0,\n",
       " 0.0,\n",
       " 0.0,\n",
       " 1.0,\n",
       " 1.0,\n",
       " 5.0,\n",
       " 1.0,\n",
       " 3.0,\n",
       " 0.0,\n",
       " 2.0,\n",
       " 0.0,\n",
       " 1.0,\n",
       " 0.0,\n",
       " 0.0,\n",
       " 1.0,\n",
       " 3.0,\n",
       " 0.0,\n",
       " 1.4740090197009257,\n",
       " 1.0,\n",
       " 4.0,\n",
       " 1.0,\n",
       " 2.0,\n",
       " 0.0,\n",
       " 0.0,\n",
       " 3.0,\n",
       " 3.0,\n",
       " 7.0,\n",
       " 2.763919821826281,\n",
       " 4.0,\n",
       " 4.0,\n",
       " 1.0,\n",
       " 0.0,\n",
       " 0.0,\n",
       " 2.0,\n",
       " 0.0,\n",
       " 1.0,\n",
       " 5.0,\n",
       " 3.0,\n",
       " 0.0,\n",
       " 2.0,\n",
       " 2.0,\n",
       " 1.0,\n",
       " 2.0,\n",
       " 2.0,\n",
       " 6.0,\n",
       " 1.0,\n",
       " 0.0,\n",
       " 2.0,\n",
       " 3.0,\n",
       " 0.0,\n",
       " 1.0,\n",
       " 2.927641099855282,\n",
       " 0.0,\n",
       " 2.8627027027027028,\n",
       " 1.0,\n",
       " 2.0,\n",
       " 0.0,\n",
       " 4.0,\n",
       " 0.0,\n",
       " 0.0,\n",
       " 0.0,\n",
       " 0.7305122494432071,\n",
       " 0.0,\n",
       " 4.0,\n",
       " 0.0,\n",
       " 3.0,\n",
       " 3.0,\n",
       " 0.0,\n",
       " 0.0,\n",
       " 4.0,\n",
       " 1.0,\n",
       " 2.0,\n",
       " 0.0,\n",
       " 0.0,\n",
       " 0.0,\n",
       " 0.0,\n",
       " 2.0,\n",
       " 2.0,\n",
       " 0.45028471309680246,\n",
       " 0.0,\n",
       " 0.0,\n",
       " 0.0,\n",
       " 1.0,\n",
       " 0.0,\n",
       " 0.0,\n",
       " 0.0,\n",
       " 0.0,\n",
       " 3.0,\n",
       " 7.0,\n",
       " 2.0,\n",
       " 0.0,\n",
       " 1.0,\n",
       " 1.0,\n",
       " 0.0,\n",
       " 0.0,\n",
       " 2.0,\n",
       " 1.9675925925925926,\n",
       " 0.0,\n",
       " 2.0,\n",
       " 0.0,\n",
       " 2.0,\n",
       " 3.0,\n",
       " 0.0,\n",
       " 0.0,\n",
       " 0.0,\n",
       " 1.0,\n",
       " 0.0,\n",
       " 3.0,\n",
       " 1.0,\n",
       " 2.0,\n",
       " 3.0,\n",
       " 0.0,\n",
       " 2.0,\n",
       " 3.0,\n",
       " 1.0,\n",
       " 2.0,\n",
       " 0.0,\n",
       " 0.0,\n",
       " 0.0,\n",
       " 7.0,\n",
       " 6.0,\n",
       " 2.0,\n",
       " 2.4241967871485945,\n",
       " 0.0,\n",
       " 0.0,\n",
       " 3.0,\n",
       " 0.0,\n",
       " 1.0,\n",
       " 0.0,\n",
       " 0.3146067415730337,\n",
       " 0.0,\n",
       " 1.0,\n",
       " 2.0,\n",
       " 3.0,\n",
       " 1.0,\n",
       " 2.0,\n",
       " 4.0,\n",
       " 0.0,\n",
       " 1.0,\n",
       " 1.0,\n",
       " 5.0,\n",
       " 0.0,\n",
       " 2.0,\n",
       " 4.0,\n",
       " 3.0,\n",
       " 3.0,\n",
       " 0.0,\n",
       " 0.0,\n",
       " 0.0,\n",
       " 2.0,\n",
       " 0.0,\n",
       " 2.2573421439060204,\n",
       " 0.0,\n",
       " 2.0,\n",
       " 2.0,\n",
       " 0.0,\n",
       " 0.0,\n",
       " 0.0,\n",
       " 1.0,\n",
       " 2.0,\n",
       " 0.0,\n",
       " 1.0,\n",
       " 0.0,\n",
       " ...]"
      ]
     },
     "execution_count": 115,
     "metadata": {},
     "output_type": "execute_result"
    }
   ],
   "source": [
    "l # filled the missing values now we need to assign these values."
   ]
  },
  {
   "cell_type": "code",
   "execution_count": 116,
   "id": "2a52b4f3",
   "metadata": {},
   "outputs": [],
   "source": [
    "data['mort_acc']=l"
   ]
  },
  {
   "cell_type": "code",
   "execution_count": 117,
   "id": "a41762af",
   "metadata": {
    "scrolled": true
   },
   "outputs": [
    {
     "data": {
      "text/plain": [
       "loan_amnt                0\n",
       "term                     0\n",
       "int_rate                 0\n",
       "installment              0\n",
       "grade                    0\n",
       "sub_grade                0\n",
       "home_ownership           0\n",
       "annual_inc               0\n",
       "verification_status      0\n",
       "issue_d                  0\n",
       "loan_status              0\n",
       "purpose                  0\n",
       "zip_code                 0\n",
       "addr_state               0\n",
       "dti                     37\n",
       "earliest_cr_line         0\n",
       "open_acc                 0\n",
       "pub_rec                  0\n",
       "revol_bal                0\n",
       "revol_util              62\n",
       "total_acc                0\n",
       "initial_list_status      0\n",
       "application_type         0\n",
       "mort_acc                 0\n",
       "pub_rec_bankruptcies    56\n",
       "dtype: int64"
      ]
     },
     "execution_count": 117,
     "metadata": {},
     "output_type": "execute_result"
    }
   ],
   "source": [
    "data.isna().sum()"
   ]
  },
  {
   "cell_type": "code",
   "execution_count": 120,
   "id": "44aa83c1",
   "metadata": {
    "scrolled": true
   },
   "outputs": [
    {
     "data": {
      "text/plain": [
       "loan_amnt               0\n",
       "term                    0\n",
       "int_rate                0\n",
       "installment             0\n",
       "grade                   0\n",
       "sub_grade               0\n",
       "home_ownership          0\n",
       "annual_inc              0\n",
       "verification_status     0\n",
       "issue_d                 0\n",
       "loan_status             0\n",
       "purpose                 0\n",
       "zip_code                0\n",
       "addr_state              0\n",
       "dti                     0\n",
       "earliest_cr_line        0\n",
       "open_acc                0\n",
       "pub_rec                 0\n",
       "revol_bal               0\n",
       "revol_util              0\n",
       "total_acc               0\n",
       "initial_list_status     0\n",
       "application_type        0\n",
       "mort_acc                0\n",
       "pub_rec_bankruptcies    0\n",
       "dtype: int64"
      ]
     },
     "execution_count": 120,
     "metadata": {},
     "output_type": "execute_result"
    }
   ],
   "source": [
    "# we can drop our rows for these values\n",
    "data=data.dropna()\n",
    "data.isna().sum()"
   ]
  },
  {
   "cell_type": "code",
   "execution_count": 124,
   "id": "b5f4e9ed",
   "metadata": {},
   "outputs": [
    {
     "data": {
      "text/plain": [
       "Index(['term', 'grade', 'sub_grade', 'home_ownership', 'verification_status',\n",
       "       'issue_d', 'loan_status', 'purpose', 'zip_code', 'addr_state',\n",
       "       'earliest_cr_line', 'initial_list_status', 'application_type'],\n",
       "      dtype='object')"
      ]
     },
     "execution_count": 124,
     "metadata": {},
     "output_type": "execute_result"
    }
   ],
   "source": [
    "data.select_dtypes(include=['object']).columns"
   ]
  },
  {
   "cell_type": "code",
   "execution_count": 132,
   "id": "ea7f140d",
   "metadata": {},
   "outputs": [
    {
     "data": {
      "text/plain": [
       "array([' 36 months', ' 60 months'], dtype=object)"
      ]
     },
     "execution_count": 132,
     "metadata": {},
     "output_type": "execute_result"
    }
   ],
   "source": [
    "data['term'].unique()"
   ]
  },
  {
   "cell_type": "code",
   "execution_count": 158,
   "id": "7f7714ac",
   "metadata": {},
   "outputs": [],
   "source": [
    "d={' 36 months':36,' 60 months':60}\n",
    "data['term']=data['term'].map(d)"
   ]
  },
  {
   "cell_type": "code",
   "execution_count": 134,
   "id": "34c6d806",
   "metadata": {},
   "outputs": [
    {
     "data": {
      "text/plain": [
       "array(['B', 'C', 'D', 'A', 'E', 'F', 'G'], dtype=object)"
      ]
     },
     "execution_count": 134,
     "metadata": {},
     "output_type": "execute_result"
    }
   ],
   "source": [
    "data['grade'].unique()"
   ]
  },
  {
   "cell_type": "code",
   "execution_count": 137,
   "id": "84340eff",
   "metadata": {},
   "outputs": [],
   "source": [
    "data['sub_grade'].unique()\n",
    "# as we can see here that the sub_grade already have information regarding the grade columns so we can drop the grade column\n",
    "# and I am going to drop the address columns as well\n",
    "data.drop('grade',inplace=True,axis=1)"
   ]
  },
  {
   "cell_type": "code",
   "execution_count": 138,
   "id": "07c6367f",
   "metadata": {},
   "outputs": [],
   "source": [
    "dummies=pd.get_dummies(data['sub_grade'],dtype=int)\n",
    "# if w ehave mutiple columns it will just reduce it by one if we add drop_first=true like A/B/C/D will only have b/c/d."
   ]
  },
  {
   "cell_type": "code",
   "execution_count": 140,
   "id": "d6a2d429",
   "metadata": {},
   "outputs": [],
   "source": [
    "data = pd.concat([data.drop('sub_grade',axis=1),dummies],axis=1)\n",
    "# we have the subgrade replaced by columns."
   ]
  },
  {
   "cell_type": "code",
   "execution_count": 141,
   "id": "43d18a52",
   "metadata": {},
   "outputs": [],
   "source": [
    "dummies=pd.get_dummies(data['verification_status'],dtype=int)\n",
    "data = pd.concat([data.drop('verification_status',axis=1),dummies],axis=1)"
   ]
  },
  {
   "cell_type": "code",
   "execution_count": 142,
   "id": "733ccf3e",
   "metadata": {},
   "outputs": [],
   "source": [
    "dummies=pd.get_dummies(data['purpose'],dtype=int)\n",
    "data = pd.concat([data.drop('purpose',axis=1),dummies],axis=1)"
   ]
  },
  {
   "cell_type": "code",
   "execution_count": 143,
   "id": "3e517fb2",
   "metadata": {},
   "outputs": [],
   "source": [
    "dummies=pd.get_dummies(data['application_type'],dtype=int)\n",
    "data = pd.concat([data.drop('application_type',axis=1),dummies],axis=1)"
   ]
  },
  {
   "cell_type": "code",
   "execution_count": 144,
   "id": "f62dea4d",
   "metadata": {},
   "outputs": [],
   "source": [
    "dummies=pd.get_dummies(data['initial_list_status'],dtype=int)\n",
    "data = pd.concat([data.drop('initial_list_status',axis=1),dummies],axis=1)\n",
    "# after this data ahve 75 columns"
   ]
  },
  {
   "cell_type": "code",
   "execution_count": 148,
   "id": "0f2e8d1b",
   "metadata": {},
   "outputs": [
    {
     "data": {
      "text/plain": [
       "home_ownership\n",
       "MORTGAGE    57843\n",
       "RENT        45971\n",
       "OWN         12666\n",
       "ANY            25\n",
       "OTHER          15\n",
       "NONE            4\n",
       "Name: count, dtype: int64"
      ]
     },
     "execution_count": 148,
     "metadata": {},
     "output_type": "execute_result"
    }
   ],
   "source": [
    "data['home_ownership'].value_counts()\n",
    "# its not better to add the extra columns just for Any / other and None category."
   ]
  },
  {
   "cell_type": "code",
   "execution_count": 150,
   "id": "ed8555f8",
   "metadata": {},
   "outputs": [],
   "source": [
    "data['home_ownership'].replace(['ANY','NONE'],'OTHER',inplace=True)"
   ]
  },
  {
   "cell_type": "code",
   "execution_count": 151,
   "id": "8caefda8",
   "metadata": {},
   "outputs": [],
   "source": [
    "dummies=pd.get_dummies(data['home_ownership'],dtype=int)\n",
    "data = pd.concat([data.drop('home_ownership',axis=1),dummies],axis=1)"
   ]
  },
  {
   "cell_type": "code",
   "execution_count": 136,
   "id": "d984757e",
   "metadata": {},
   "outputs": [
    {
     "data": {
      "text/plain": [
       "array(['AL', 'AZ', 'TX', 'CT', 'NY', 'MA', 'AR', 'CA', 'NJ', 'NC', 'LA',\n",
       "       'OR', 'NH', 'WI', 'CO', 'SC', 'RI', 'MN', 'PA', 'TN', 'IL', 'MI',\n",
       "       'MD', 'ME', 'FL', 'WV', 'NV', 'MO', 'VA', 'WA', 'OH', 'OK', 'SD',\n",
       "       'UT', 'GA', 'KY', 'KS', 'IN', 'DC', 'HI', 'NE', 'MT', 'WY', 'MS',\n",
       "       'AK', 'VT', 'NM', 'DE', 'ND', 'ID', 'IA'], dtype=object)"
      ]
     },
     "execution_count": 136,
     "metadata": {},
     "output_type": "execute_result"
    }
   ],
   "source": [
    "data['addr_state'].unique() # we can visualize the data based on these columns but they are useless "
   ]
  },
  {
   "cell_type": "code",
   "execution_count": 155,
   "id": "5e30b83f",
   "metadata": {},
   "outputs": [
    {
     "data": {
      "text/plain": [
       "zip_code\n",
       "945xx    1334\n",
       "112xx    1238\n",
       "750xx    1237\n",
       "300xx    1070\n",
       "606xx    1046\n",
       "         ... \n",
       "507xx       1\n",
       "821xx       1\n",
       "576xx       1\n",
       "649xx       1\n",
       "340xx       1\n",
       "Name: count, Length: 886, dtype: int64"
      ]
     },
     "execution_count": 155,
     "metadata": {},
     "output_type": "execute_result"
    }
   ],
   "source": [
    "data['zip_code'].value_counts() # too much values that's why we hav eto drop it "
   ]
  },
  {
   "cell_type": "code",
   "execution_count": 160,
   "id": "6162c363",
   "metadata": {
    "scrolled": true
   },
   "outputs": [
    {
     "ename": "KeyError",
     "evalue": "\"['addr_state', 'zip_code'] not found in axis\"",
     "output_type": "error",
     "traceback": [
      "\u001b[1;31m---------------------------------------------------------------------------\u001b[0m",
      "\u001b[1;31mKeyError\u001b[0m                                  Traceback (most recent call last)",
      "Cell \u001b[1;32mIn[160], line 1\u001b[0m\n\u001b[1;32m----> 1\u001b[0m \u001b[43mdata\u001b[49m\u001b[38;5;241;43m.\u001b[39;49m\u001b[43mdrop\u001b[49m\u001b[43m(\u001b[49m\u001b[43m[\u001b[49m\u001b[38;5;124;43m'\u001b[39;49m\u001b[38;5;124;43maddr_state\u001b[39;49m\u001b[38;5;124;43m'\u001b[39;49m\u001b[43m,\u001b[49m\u001b[38;5;124;43m'\u001b[39;49m\u001b[38;5;124;43mzip_code\u001b[39;49m\u001b[38;5;124;43m'\u001b[39;49m\u001b[43m]\u001b[49m\u001b[43m,\u001b[49m\u001b[43minplace\u001b[49m\u001b[38;5;241;43m=\u001b[39;49m\u001b[38;5;28;43;01mTrue\u001b[39;49;00m\u001b[43m,\u001b[49m\u001b[43maxis\u001b[49m\u001b[38;5;241;43m=\u001b[39;49m\u001b[38;5;241;43m1\u001b[39;49m\u001b[43m)\u001b[49m\n",
      "File \u001b[1;32m~\\AppData\\Local\\Programs\\Python\\Python311\\Lib\\site-packages\\pandas\\core\\frame.py:5258\u001b[0m, in \u001b[0;36mDataFrame.drop\u001b[1;34m(self, labels, axis, index, columns, level, inplace, errors)\u001b[0m\n\u001b[0;32m   5110\u001b[0m \u001b[38;5;28;01mdef\u001b[39;00m \u001b[38;5;21mdrop\u001b[39m(\n\u001b[0;32m   5111\u001b[0m     \u001b[38;5;28mself\u001b[39m,\n\u001b[0;32m   5112\u001b[0m     labels: IndexLabel \u001b[38;5;241m=\u001b[39m \u001b[38;5;28;01mNone\u001b[39;00m,\n\u001b[1;32m   (...)\u001b[0m\n\u001b[0;32m   5119\u001b[0m     errors: IgnoreRaise \u001b[38;5;241m=\u001b[39m \u001b[38;5;124m\"\u001b[39m\u001b[38;5;124mraise\u001b[39m\u001b[38;5;124m\"\u001b[39m,\n\u001b[0;32m   5120\u001b[0m ) \u001b[38;5;241m-\u001b[39m\u001b[38;5;241m>\u001b[39m DataFrame \u001b[38;5;241m|\u001b[39m \u001b[38;5;28;01mNone\u001b[39;00m:\n\u001b[0;32m   5121\u001b[0m \u001b[38;5;250m    \u001b[39m\u001b[38;5;124;03m\"\"\"\u001b[39;00m\n\u001b[0;32m   5122\u001b[0m \u001b[38;5;124;03m    Drop specified labels from rows or columns.\u001b[39;00m\n\u001b[0;32m   5123\u001b[0m \n\u001b[1;32m   (...)\u001b[0m\n\u001b[0;32m   5256\u001b[0m \u001b[38;5;124;03m            weight  1.0     0.8\u001b[39;00m\n\u001b[0;32m   5257\u001b[0m \u001b[38;5;124;03m    \"\"\"\u001b[39;00m\n\u001b[1;32m-> 5258\u001b[0m     \u001b[38;5;28;01mreturn\u001b[39;00m \u001b[38;5;28;43msuper\u001b[39;49m\u001b[43m(\u001b[49m\u001b[43m)\u001b[49m\u001b[38;5;241;43m.\u001b[39;49m\u001b[43mdrop\u001b[49m\u001b[43m(\u001b[49m\n\u001b[0;32m   5259\u001b[0m \u001b[43m        \u001b[49m\u001b[43mlabels\u001b[49m\u001b[38;5;241;43m=\u001b[39;49m\u001b[43mlabels\u001b[49m\u001b[43m,\u001b[49m\n\u001b[0;32m   5260\u001b[0m \u001b[43m        \u001b[49m\u001b[43maxis\u001b[49m\u001b[38;5;241;43m=\u001b[39;49m\u001b[43maxis\u001b[49m\u001b[43m,\u001b[49m\n\u001b[0;32m   5261\u001b[0m \u001b[43m        \u001b[49m\u001b[43mindex\u001b[49m\u001b[38;5;241;43m=\u001b[39;49m\u001b[43mindex\u001b[49m\u001b[43m,\u001b[49m\n\u001b[0;32m   5262\u001b[0m \u001b[43m        \u001b[49m\u001b[43mcolumns\u001b[49m\u001b[38;5;241;43m=\u001b[39;49m\u001b[43mcolumns\u001b[49m\u001b[43m,\u001b[49m\n\u001b[0;32m   5263\u001b[0m \u001b[43m        \u001b[49m\u001b[43mlevel\u001b[49m\u001b[38;5;241;43m=\u001b[39;49m\u001b[43mlevel\u001b[49m\u001b[43m,\u001b[49m\n\u001b[0;32m   5264\u001b[0m \u001b[43m        \u001b[49m\u001b[43minplace\u001b[49m\u001b[38;5;241;43m=\u001b[39;49m\u001b[43minplace\u001b[49m\u001b[43m,\u001b[49m\n\u001b[0;32m   5265\u001b[0m \u001b[43m        \u001b[49m\u001b[43merrors\u001b[49m\u001b[38;5;241;43m=\u001b[39;49m\u001b[43merrors\u001b[49m\u001b[43m,\u001b[49m\n\u001b[0;32m   5266\u001b[0m \u001b[43m    \u001b[49m\u001b[43m)\u001b[49m\n",
      "File \u001b[1;32m~\\AppData\\Local\\Programs\\Python\\Python311\\Lib\\site-packages\\pandas\\core\\generic.py:4549\u001b[0m, in \u001b[0;36mNDFrame.drop\u001b[1;34m(self, labels, axis, index, columns, level, inplace, errors)\u001b[0m\n\u001b[0;32m   4547\u001b[0m \u001b[38;5;28;01mfor\u001b[39;00m axis, labels \u001b[38;5;129;01min\u001b[39;00m axes\u001b[38;5;241m.\u001b[39mitems():\n\u001b[0;32m   4548\u001b[0m     \u001b[38;5;28;01mif\u001b[39;00m labels \u001b[38;5;129;01mis\u001b[39;00m \u001b[38;5;129;01mnot\u001b[39;00m \u001b[38;5;28;01mNone\u001b[39;00m:\n\u001b[1;32m-> 4549\u001b[0m         obj \u001b[38;5;241m=\u001b[39m \u001b[43mobj\u001b[49m\u001b[38;5;241;43m.\u001b[39;49m\u001b[43m_drop_axis\u001b[49m\u001b[43m(\u001b[49m\u001b[43mlabels\u001b[49m\u001b[43m,\u001b[49m\u001b[43m \u001b[49m\u001b[43maxis\u001b[49m\u001b[43m,\u001b[49m\u001b[43m \u001b[49m\u001b[43mlevel\u001b[49m\u001b[38;5;241;43m=\u001b[39;49m\u001b[43mlevel\u001b[49m\u001b[43m,\u001b[49m\u001b[43m \u001b[49m\u001b[43merrors\u001b[49m\u001b[38;5;241;43m=\u001b[39;49m\u001b[43merrors\u001b[49m\u001b[43m)\u001b[49m\n\u001b[0;32m   4551\u001b[0m \u001b[38;5;28;01mif\u001b[39;00m inplace:\n\u001b[0;32m   4552\u001b[0m     \u001b[38;5;28mself\u001b[39m\u001b[38;5;241m.\u001b[39m_update_inplace(obj)\n",
      "File \u001b[1;32m~\\AppData\\Local\\Programs\\Python\\Python311\\Lib\\site-packages\\pandas\\core\\generic.py:4591\u001b[0m, in \u001b[0;36mNDFrame._drop_axis\u001b[1;34m(self, labels, axis, level, errors, only_slice)\u001b[0m\n\u001b[0;32m   4589\u001b[0m         new_axis \u001b[38;5;241m=\u001b[39m axis\u001b[38;5;241m.\u001b[39mdrop(labels, level\u001b[38;5;241m=\u001b[39mlevel, errors\u001b[38;5;241m=\u001b[39merrors)\n\u001b[0;32m   4590\u001b[0m     \u001b[38;5;28;01melse\u001b[39;00m:\n\u001b[1;32m-> 4591\u001b[0m         new_axis \u001b[38;5;241m=\u001b[39m \u001b[43maxis\u001b[49m\u001b[38;5;241;43m.\u001b[39;49m\u001b[43mdrop\u001b[49m\u001b[43m(\u001b[49m\u001b[43mlabels\u001b[49m\u001b[43m,\u001b[49m\u001b[43m \u001b[49m\u001b[43merrors\u001b[49m\u001b[38;5;241;43m=\u001b[39;49m\u001b[43merrors\u001b[49m\u001b[43m)\u001b[49m\n\u001b[0;32m   4592\u001b[0m     indexer \u001b[38;5;241m=\u001b[39m axis\u001b[38;5;241m.\u001b[39mget_indexer(new_axis)\n\u001b[0;32m   4594\u001b[0m \u001b[38;5;66;03m# Case for non-unique axis\u001b[39;00m\n\u001b[0;32m   4595\u001b[0m \u001b[38;5;28;01melse\u001b[39;00m:\n",
      "File \u001b[1;32m~\\AppData\\Local\\Programs\\Python\\Python311\\Lib\\site-packages\\pandas\\core\\indexes\\base.py:6696\u001b[0m, in \u001b[0;36mIndex.drop\u001b[1;34m(self, labels, errors)\u001b[0m\n\u001b[0;32m   6694\u001b[0m \u001b[38;5;28;01mif\u001b[39;00m mask\u001b[38;5;241m.\u001b[39many():\n\u001b[0;32m   6695\u001b[0m     \u001b[38;5;28;01mif\u001b[39;00m errors \u001b[38;5;241m!=\u001b[39m \u001b[38;5;124m\"\u001b[39m\u001b[38;5;124mignore\u001b[39m\u001b[38;5;124m\"\u001b[39m:\n\u001b[1;32m-> 6696\u001b[0m         \u001b[38;5;28;01mraise\u001b[39;00m \u001b[38;5;167;01mKeyError\u001b[39;00m(\u001b[38;5;124mf\u001b[39m\u001b[38;5;124m\"\u001b[39m\u001b[38;5;132;01m{\u001b[39;00m\u001b[38;5;28mlist\u001b[39m(labels[mask])\u001b[38;5;132;01m}\u001b[39;00m\u001b[38;5;124m not found in axis\u001b[39m\u001b[38;5;124m\"\u001b[39m)\n\u001b[0;32m   6697\u001b[0m     indexer \u001b[38;5;241m=\u001b[39m indexer[\u001b[38;5;241m~\u001b[39mmask]\n\u001b[0;32m   6698\u001b[0m \u001b[38;5;28;01mreturn\u001b[39;00m \u001b[38;5;28mself\u001b[39m\u001b[38;5;241m.\u001b[39mdelete(indexer)\n",
      "\u001b[1;31mKeyError\u001b[0m: \"['addr_state', 'zip_code'] not found in axis\""
     ]
    }
   ],
   "source": [
    "data.drop(['addr_state','zip_code'],inplace=True,axis=1) # as I already Dropped it ..."
   ]
  },
  {
   "cell_type": "code",
   "execution_count": 161,
   "id": "ce41f458",
   "metadata": {},
   "outputs": [
    {
     "data": {
      "text/plain": [
       "Index(['issue_d', 'loan_status', 'earliest_cr_line'], dtype='object')"
      ]
     },
     "execution_count": 161,
     "metadata": {},
     "output_type": "execute_result"
    }
   ],
   "source": [
    "data.select_dtypes(include=['object']).columns # only left with two columns as of now"
   ]
  },
  {
   "cell_type": "code",
   "execution_count": 162,
   "id": "c43934d8",
   "metadata": {},
   "outputs": [],
   "source": [
    "data.drop(['issue_d','earliest_cr_line'],axis=1,inplace=True)"
   ]
  },
  {
   "cell_type": "code",
   "execution_count": 163,
   "id": "315295db",
   "metadata": {},
   "outputs": [],
   "source": [
    "# only left with output categorical column"
   ]
  },
  {
   "cell_type": "code",
   "execution_count": 164,
   "id": "f825cac6",
   "metadata": {},
   "outputs": [],
   "source": [
    "from sklearn.model_selection import train_test_split"
   ]
  },
  {
   "cell_type": "code",
   "execution_count": 166,
   "id": "977d6c72",
   "metadata": {},
   "outputs": [],
   "source": [
    "y=data['loan_status']\n",
    "x=data.drop('loan_status',axis=1)\n",
    "y=pd.get_dummies(y,drop_first=True,dtype=int)\n",
    "x=x.values"
   ]
  },
  {
   "cell_type": "code",
   "execution_count": 174,
   "id": "74f2e700",
   "metadata": {},
   "outputs": [],
   "source": [
    "y=y.values"
   ]
  },
  {
   "cell_type": "code",
   "execution_count": 210,
   "id": "2a40e1d9",
   "metadata": {},
   "outputs": [],
   "source": [
    "X_train, X_test, y_train, y_test = train_test_split(x, y, test_size=0.2, random_state=101)"
   ]
  },
  {
   "cell_type": "code",
   "execution_count": 211,
   "id": "0f674b9a",
   "metadata": {},
   "outputs": [],
   "source": [
    "from sklearn.preprocessing import StandardScaler\n",
    "sc=StandardScaler()\n",
    "X_train=sc.fit_transform(X_train)\n",
    "X_test = sc.transform(X_test)"
   ]
  },
  {
   "cell_type": "code",
   "execution_count": 195,
   "id": "85d664fe",
   "metadata": {},
   "outputs": [
    {
     "data": {
      "text/plain": [
       "73"
      ]
     },
     "execution_count": 195,
     "metadata": {},
     "output_type": "execute_result"
    }
   ],
   "source": [
    "X_train.shape[1]"
   ]
  },
  {
   "cell_type": "code",
   "execution_count": 207,
   "id": "605d3798",
   "metadata": {},
   "outputs": [
    {
     "data": {
      "text/plain": [
       "1"
      ]
     },
     "execution_count": 207,
     "metadata": {},
     "output_type": "execute_result"
    }
   ],
   "source": [
    "y_train.shape[1]"
   ]
  },
  {
   "cell_type": "code",
   "execution_count": 208,
   "id": "148840d1",
   "metadata": {},
   "outputs": [
    {
     "data": {
      "text/plain": [
       "73"
      ]
     },
     "execution_count": 208,
     "metadata": {},
     "output_type": "execute_result"
    }
   ],
   "source": [
    "X_test.shape[1]"
   ]
  },
  {
   "cell_type": "code",
   "execution_count": 209,
   "id": "2c95a119",
   "metadata": {},
   "outputs": [
    {
     "data": {
      "text/plain": [
       "73"
      ]
     },
     "execution_count": 209,
     "metadata": {},
     "output_type": "execute_result"
    }
   ],
   "source": [
    "y_test.shape[1]"
   ]
  },
  {
   "cell_type": "code",
   "execution_count": 177,
   "id": "461bbe78",
   "metadata": {},
   "outputs": [],
   "source": [
    "import tensorflow as tf "
   ]
  },
  {
   "cell_type": "code",
   "execution_count": 228,
   "id": "8f22693c",
   "metadata": {
    "scrolled": true
   },
   "outputs": [
    {
     "name": "stdout",
     "output_type": "stream",
     "text": [
      "Epoch 1/25\n",
      "365/365 [==============================] - 2s 3ms/step - loss: 0.4858 - val_loss: 0.4575\n",
      "Epoch 2/25\n",
      "365/365 [==============================] - 1s 3ms/step - loss: 0.4633 - val_loss: 0.4563\n",
      "Epoch 3/25\n",
      "365/365 [==============================] - 1s 3ms/step - loss: 0.4593 - val_loss: 0.4574\n",
      "Epoch 4/25\n",
      "365/365 [==============================] - 1s 3ms/step - loss: 0.4568 - val_loss: 0.4541\n",
      "Epoch 5/25\n",
      "365/365 [==============================] - 1s 3ms/step - loss: 0.4552 - val_loss: 0.4541\n",
      "Epoch 6/25\n",
      "365/365 [==============================] - 1s 3ms/step - loss: 0.4541 - val_loss: 0.4540\n",
      "Epoch 7/25\n",
      "365/365 [==============================] - 1s 3ms/step - loss: 0.4541 - val_loss: 0.4537\n",
      "Epoch 8/25\n",
      "365/365 [==============================] - 1s 3ms/step - loss: 0.4528 - val_loss: 0.4535\n",
      "Epoch 9/25\n",
      "365/365 [==============================] - 1s 3ms/step - loss: 0.4528 - val_loss: 0.4535\n",
      "Epoch 10/25\n",
      "365/365 [==============================] - 1s 3ms/step - loss: 0.4517 - val_loss: 0.4544\n",
      "Epoch 11/25\n",
      "365/365 [==============================] - 1s 3ms/step - loss: 0.4513 - val_loss: 0.4536\n",
      "Epoch 12/25\n",
      "365/365 [==============================] - 1s 3ms/step - loss: 0.4502 - val_loss: 0.4532\n",
      "Epoch 13/25\n",
      "365/365 [==============================] - 1s 3ms/step - loss: 0.4505 - val_loss: 0.4532\n",
      "Epoch 14/25\n",
      "365/365 [==============================] - 1s 3ms/step - loss: 0.4501 - val_loss: 0.4533\n",
      "Epoch 15/25\n",
      "365/365 [==============================] - 1s 3ms/step - loss: 0.4498 - val_loss: 0.4534\n",
      "Epoch 16/25\n",
      "365/365 [==============================] - 1s 3ms/step - loss: 0.4494 - val_loss: 0.4535\n",
      "Epoch 17/25\n",
      "365/365 [==============================] - 1s 3ms/step - loss: 0.4491 - val_loss: 0.4530\n",
      "Epoch 18/25\n",
      "365/365 [==============================] - 1s 3ms/step - loss: 0.4486 - val_loss: 0.4532\n",
      "Epoch 19/25\n",
      "365/365 [==============================] - 1s 3ms/step - loss: 0.4484 - val_loss: 0.4537\n",
      "Epoch 20/25\n",
      "365/365 [==============================] - 1s 3ms/step - loss: 0.4483 - val_loss: 0.4532\n",
      "Epoch 21/25\n",
      "365/365 [==============================] - 1s 3ms/step - loss: 0.4478 - val_loss: 0.4535\n",
      "Epoch 22/25\n",
      "365/365 [==============================] - 1s 3ms/step - loss: 0.4482 - val_loss: 0.4535\n",
      "Epoch 23/25\n",
      "365/365 [==============================] - 1s 3ms/step - loss: 0.4469 - val_loss: 0.4529\n",
      "Epoch 24/25\n",
      "365/365 [==============================] - 1s 3ms/step - loss: 0.4467 - val_loss: 0.4537\n",
      "Epoch 25/25\n",
      "365/365 [==============================] - 1s 3ms/step - loss: 0.4472 - val_loss: 0.4534\n"
     ]
    },
    {
     "data": {
      "text/plain": [
       "<keras.callbacks.History at 0x199e45b96d0>"
      ]
     },
     "execution_count": 228,
     "metadata": {},
     "output_type": "execute_result"
    }
   ],
   "source": [
    "# Define and compile your model\n",
    "model = Sequential()\n",
    "model.add(Dense(73, activation='relu', input_shape=(73,)))\n",
    "model.add(Dropout(0.2))\n",
    "model.add(Dense(39, activation='relu'))\n",
    "model.add(Dropout(0.2))\n",
    "model.add(Dense(19, activation='relu'))\n",
    "model.add(Dropout(0.2))\n",
    "model.add(Dense(1, activation='sigmoid'))\n",
    "model.compile(loss='binary_crossentropy', optimizer='adam')\n",
    "\n",
    "# Train your model\n",
    "model.fit(x=X_train, y=y_train, epochs=25, batch_size=256, validation_data=(X_test,y_test))"
   ]
  },
  {
   "cell_type": "code",
   "execution_count": 229,
   "id": "b0dbe234",
   "metadata": {},
   "outputs": [],
   "source": [
    "loss_df=pd.DataFrame(model.history.history)"
   ]
  },
  {
   "cell_type": "code",
   "execution_count": 230,
   "id": "ce87eb43",
   "metadata": {},
   "outputs": [
    {
     "data": {
      "text/plain": [
       "[<matplotlib.lines.Line2D at 0x199d563d550>,\n",
       " <matplotlib.lines.Line2D at 0x199dd898090>]"
      ]
     },
     "execution_count": 230,
     "metadata": {},
     "output_type": "execute_result"
    },
    {
     "data": {
      "image/png": "[encoded data removed]",
      "text/plain": [
       "<Figure size 640x480 with 1 Axes>"
      ]
     },
     "metadata": {},
     "output_type": "display_data"
    }
   ],
   "source": [
    "plt.plot(loss_df) \n",
    "# reducing the loss but the model is overfitting and is not agood model therefore we need to look for another models."
   ]
  },
  {
   "cell_type": "code",
   "execution_count": 238,
   "id": "289ebdee",
   "metadata": {},
   "outputs": [],
   "source": [
    "from sklearn.metrics import classification_report,confusion_matrix,accuracy_score,roc_auc_score"
   ]
  },
  {
   "cell_type": "code",
   "execution_count": 236,
   "id": "4a4bd2d5",
   "metadata": {},
   "outputs": [
    {
     "name": "stdout",
     "output_type": "stream",
     "text": [
      "729/729 [==============================] - 1s 847us/step\n"
     ]
    }
   ],
   "source": [
    "y_pred_proba=model.predict(X_test)\n",
    "y_pred = (y_pred_proba > 0.5).astype(int)"
   ]
  },
  {
   "cell_type": "code",
   "execution_count": 237,
   "id": "0a5e5b54",
   "metadata": {},
   "outputs": [
    {
     "name": "stdout",
     "output_type": "stream",
     "text": [
      "              precision    recall  f1-score   support\n",
      "\n",
      "           0       0.57      0.02      0.05      4634\n",
      "           1       0.80      1.00      0.89     18671\n",
      "\n",
      "    accuracy                           0.80     23305\n",
      "   macro avg       0.68      0.51      0.47     23305\n",
      "weighted avg       0.76      0.80      0.72     23305\n",
      "\n"
     ]
    }
   ],
   "source": [
    "print(classification_report(y_test,y_pred))"
   ]
  },
  {
   "cell_type": "code",
   "execution_count": 239,
   "id": "4b1a5224",
   "metadata": {},
   "outputs": [
    {
     "data": {
      "text/plain": [
       "0.7117479379151154"
      ]
     },
     "execution_count": 239,
     "metadata": {},
     "output_type": "execute_result"
    }
   ],
   "source": [
    "roc_auc_score(y_test,y_pred_proba) # our model is 71% correct."
   ]
  }
 ],
 "metadata": {
  "kernelspec": {
   "display_name": "Python 3 (ipykernel)",
   "language": "python",
   "name": "python3"
  },
  "language_info": {
   "codemirror_mode": {
    "name": "ipython",
    "version": 3
   },
   "file_extension": ".py",
   "mimetype": "text/x-python",
   "name": "python",
   "nbconvert_exporter": "python",
   "pygments_lexer": "ipython3",
   "version": "3.11.3"
  }
 },
 "nbformat": 4,
 "nbformat_minor": 5
}
